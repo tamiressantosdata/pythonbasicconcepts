{
 "cells": [
  {
   "cell_type": "code",
   "execution_count": 1,
   "id": "cdf2cc37-dba3-4a50-91b2-49f8ea5e34c3",
   "metadata": {},
   "outputs": [],
   "source": [
    "M = [[1, 2, 3], #A 3 × 3 matrix, as nested lists\n",
    "     [4, 5, 6], #Code can span lines if bracketed\n",
    "     [7, 8, 9]]\n"
   ]
  },
  {
   "cell_type": "code",
   "execution_count": 2,
   "id": "e8fd0595-6ad2-42dd-af8f-d2894087cadf",
   "metadata": {},
   "outputs": [
    {
     "data": {
      "text/plain": [
       "[[1, 2, 3], [4, 5, 6], [7, 8, 9]]"
      ]
     },
     "execution_count": 2,
     "metadata": {},
     "output_type": "execute_result"
    }
   ],
   "source": [
    "M"
   ]
  },
  {
   "cell_type": "code",
   "execution_count": 4,
   "id": "9524932c-54e8-46c2-a473-760f1baef0bd",
   "metadata": {},
   "outputs": [
    {
     "data": {
      "text/plain": [
       "[4, 5, 6]"
      ]
     },
     "execution_count": 4,
     "metadata": {},
     "output_type": "execute_result"
    }
   ],
   "source": [
    "M[1] ## Get row 2"
   ]
  },
  {
   "cell_type": "code",
   "execution_count": 5,
   "id": "0def79d6-de1a-493c-aa09-723e9f1944a0",
   "metadata": {},
   "outputs": [
    {
     "data": {
      "text/plain": [
       "6"
      ]
     },
     "execution_count": 5,
     "metadata": {},
     "output_type": "execute_result"
    }
   ],
   "source": [
    "M[1][2] ## Get row 2, then get item 3 within the row"
   ]
  },
  {
   "cell_type": "code",
   "execution_count": 6,
   "id": "11b08ceb-4712-4a77-bf5d-afa175de4cc2",
   "metadata": {},
   "outputs": [],
   "source": [
    "col2 = [row[1] for row in M] #comprehensions "
   ]
  },
  {
   "cell_type": "code",
   "execution_count": 7,
   "id": "00dee9df-8565-418c-a519-5738ca25a5dd",
   "metadata": {},
   "outputs": [
    {
     "data": {
      "text/plain": [
       "[2, 5, 8]"
      ]
     },
     "execution_count": 7,
     "metadata": {},
     "output_type": "execute_result"
    }
   ],
   "source": [
    "col2"
   ]
  },
  {
   "cell_type": "code",
   "execution_count": 8,
   "id": "b1057beb-68ba-4a5e-bad2-887a1b46bca9",
   "metadata": {},
   "outputs": [
    {
     "data": {
      "text/plain": [
       "[[1, 2, 3], [4, 5, 6], [7, 8, 9]]"
      ]
     },
     "execution_count": 8,
     "metadata": {},
     "output_type": "execute_result"
    }
   ],
   "source": [
    " M #the matrix is unchanged"
   ]
  },
  {
   "cell_type": "code",
   "execution_count": 9,
   "id": "92bc9833-4ce4-46b4-a663-7503fceaab4d",
   "metadata": {},
   "outputs": [
    {
     "data": {
      "text/plain": [
       "[3, 6, 9]"
      ]
     },
     "execution_count": 9,
     "metadata": {},
     "output_type": "execute_result"
    }
   ],
   "source": [
    "[row[1] + 1 for row in M] ## Add 1 to each item in column 2"
   ]
  },
  {
   "cell_type": "code",
   "execution_count": 12,
   "id": "8fbbf51c-e921-428e-97ba-00ab169e2d12",
   "metadata": {},
   "outputs": [
    {
     "data": {
      "text/plain": [
       "[2, 8]"
      ]
     },
     "execution_count": 12,
     "metadata": {},
     "output_type": "execute_result"
    }
   ],
   "source": [
    "[row[1] for row in M if row[1] % 2 == 0] ## Filter out odd items"
   ]
  },
  {
   "cell_type": "code",
   "execution_count": 13,
   "id": "7b7d4e63-8c21-4eeb-864b-3b31e5fd6de1",
   "metadata": {},
   "outputs": [],
   "source": [
    "diag = [M[i][i] for i in [0, 1, 2]] ## Collect a diagonal from matrix"
   ]
  },
  {
   "cell_type": "code",
   "execution_count": 14,
   "id": "16c517be-1995-48d1-9601-8ff3f4092c5d",
   "metadata": {},
   "outputs": [
    {
     "data": {
      "text/plain": [
       "[1, 5, 9]"
      ]
     },
     "execution_count": 14,
     "metadata": {},
     "output_type": "execute_result"
    }
   ],
   "source": [
    "diag"
   ]
  },
  {
   "cell_type": "code",
   "execution_count": 15,
   "id": "10d68d55-0574-4375-9687-3c27dc31378e",
   "metadata": {},
   "outputs": [],
   "source": [
    "doubles = [c * 2 for c in 'spam']"
   ]
  },
  {
   "cell_type": "code",
   "execution_count": 16,
   "id": "0181d95c-9a31-49bb-b019-7bf8dc9a99ef",
   "metadata": {},
   "outputs": [
    {
     "data": {
      "text/plain": [
       "['ss', 'pp', 'aa', 'mm']"
      ]
     },
     "execution_count": 16,
     "metadata": {},
     "output_type": "execute_result"
    }
   ],
   "source": [
    "doubles"
   ]
  },
  {
   "cell_type": "code",
   "execution_count": 17,
   "id": "be93786a-913d-4066-817d-092f83f71bfa",
   "metadata": {},
   "outputs": [
    {
     "data": {
      "text/plain": [
       "[0, 1, 2, 3]"
      ]
     },
     "execution_count": 17,
     "metadata": {},
     "output_type": "execute_result"
    }
   ],
   "source": [
    "list(range(4))"
   ]
  },
  {
   "cell_type": "code",
   "execution_count": 18,
   "id": "5f6e85ab-eb2d-4f35-a075-fa96a0bb30da",
   "metadata": {},
   "outputs": [
    {
     "data": {
      "text/plain": [
       "[[0, 0], [1, 1], [4, 8], [9, 27]]"
      ]
     },
     "execution_count": 18,
     "metadata": {},
     "output_type": "execute_result"
    }
   ],
   "source": [
    "[[x ** 2, x ** 3] for x in range(4)]"
   ]
  },
  {
   "cell_type": "code",
   "execution_count": 21,
   "id": "4eb220f8-40b0-4ce3-9de8-b5f695aba051",
   "metadata": {},
   "outputs": [
    {
     "data": {
      "text/plain": [
       "[[6, 3.0, 12]]"
      ]
     },
     "execution_count": 21,
     "metadata": {},
     "output_type": "execute_result"
    }
   ],
   "source": [
    "[[x, x / 2, x * 2] for x in range(6, 7, 2) if x > 0]"
   ]
  },
  {
   "cell_type": "code",
   "execution_count": 23,
   "id": "3ab6a356-6d97-417f-acec-80a7b46deca9",
   "metadata": {},
   "outputs": [],
   "source": [
    "G = (sum(row) for row in M)"
   ]
  },
  {
   "cell_type": "code",
   "execution_count": 24,
   "id": "4178fa93-9027-4fd8-96bc-81319e919614",
   "metadata": {},
   "outputs": [
    {
     "data": {
      "text/plain": [
       "<generator object <genexpr> at 0x000001FFF6DE3510>"
      ]
     },
     "execution_count": 24,
     "metadata": {},
     "output_type": "execute_result"
    }
   ],
   "source": [
    "G"
   ]
  },
  {
   "cell_type": "code",
   "execution_count": 25,
   "id": "8bd8d67f-0dee-44cf-a07f-1692a54597c4",
   "metadata": {},
   "outputs": [
    {
     "data": {
      "text/plain": [
       "6"
      ]
     },
     "execution_count": 25,
     "metadata": {},
     "output_type": "execute_result"
    }
   ],
   "source": [
    "next(G)"
   ]
  },
  {
   "cell_type": "code",
   "execution_count": 26,
   "id": "a54b8eb1-05e8-49d8-908e-f60eb4eff79f",
   "metadata": {},
   "outputs": [
    {
     "data": {
      "text/plain": [
       "15"
      ]
     },
     "execution_count": 26,
     "metadata": {},
     "output_type": "execute_result"
    }
   ],
   "source": [
    "next(G)"
   ]
  },
  {
   "cell_type": "code",
   "execution_count": 27,
   "id": "410e7e10-f0af-4d36-84b5-cc12c1b11efe",
   "metadata": {},
   "outputs": [
    {
     "data": {
      "text/plain": [
       "24"
      ]
     },
     "execution_count": 27,
     "metadata": {},
     "output_type": "execute_result"
    }
   ],
   "source": [
    "next(G)"
   ]
  },
  {
   "cell_type": "code",
   "execution_count": null,
   "id": "65e8429b-a8b4-4e1f-b192-9bb165fcc3fc",
   "metadata": {},
   "outputs": [],
   "source": []
  }
 ],
 "metadata": {
  "kernelspec": {
   "display_name": "Python 3 (ipykernel)",
   "language": "python",
   "name": "python3"
  },
  "language_info": {
   "codemirror_mode": {
    "name": "ipython",
    "version": 3
   },
   "file_extension": ".py",
   "mimetype": "text/x-python",
   "name": "python",
   "nbconvert_exporter": "python",
   "pygments_lexer": "ipython3",
   "version": "3.9.7"
  }
 },
 "nbformat": 4,
 "nbformat_minor": 5
}

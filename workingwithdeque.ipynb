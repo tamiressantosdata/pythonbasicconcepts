{
 "cells": [
  {
   "cell_type": "code",
   "execution_count": 1,
   "id": "b588a623-28bc-4d30-bca5-9e5647aa72c3",
   "metadata": {},
   "outputs": [],
   "source": [
    " from collections import deque"
   ]
  },
  {
   "cell_type": "code",
   "execution_count": 2,
   "id": "92aed72c-b60a-418e-b163-1f2c240ba71a",
   "metadata": {},
   "outputs": [],
   "source": [
    "dq=deque(range(10), maxlen=10)"
   ]
  },
  {
   "cell_type": "code",
   "execution_count": 3,
   "id": "c2dfad3d-48e9-44d6-82cc-02499a05dde0",
   "metadata": {},
   "outputs": [
    {
     "data": {
      "text/plain": [
       "deque([0, 1, 2, 3, 4, 5, 6, 7, 8, 9])"
      ]
     },
     "execution_count": 3,
     "metadata": {},
     "output_type": "execute_result"
    }
   ],
   "source": [
    "dq"
   ]
  },
  {
   "cell_type": "code",
   "execution_count": 5,
   "id": "4089ff58-dbf4-472f-8536-8b0a71fd1044",
   "metadata": {},
   "outputs": [],
   "source": [
    "dq.rotate(3)"
   ]
  },
  {
   "cell_type": "code",
   "execution_count": 11,
   "id": "12266325-db4e-4b0b-a0fb-818c822d49f3",
   "metadata": {},
   "outputs": [
    {
     "data": {
      "text/plain": [
       "deque([-1, 8, 9, 0, 1, 2, 3, 4, 5, 6])"
      ]
     },
     "execution_count": 11,
     "metadata": {},
     "output_type": "execute_result"
    }
   ],
   "source": [
    "dq"
   ]
  },
  {
   "cell_type": "code",
   "execution_count": 7,
   "id": "8f34a370-5f06-433f-88d8-72f60bca02ae",
   "metadata": {},
   "outputs": [],
   "source": [
    " dq.rotate(-4)"
   ]
  },
  {
   "cell_type": "code",
   "execution_count": 8,
   "id": "5ff5bbd0-6bb0-40df-9778-5134f79691da",
   "metadata": {},
   "outputs": [
    {
     "data": {
      "text/plain": [
       "deque([8, 9, 0, 1, 2, 3, 4, 5, 6, 7])"
      ]
     },
     "execution_count": 8,
     "metadata": {},
     "output_type": "execute_result"
    }
   ],
   "source": [
    "dq"
   ]
  },
  {
   "cell_type": "code",
   "execution_count": 9,
   "id": "a0dc2e35-3b48-45fa-a49e-bf94593847cb",
   "metadata": {},
   "outputs": [],
   "source": [
    " dq.appendleft(-1)"
   ]
  },
  {
   "cell_type": "code",
   "execution_count": 14,
   "id": "7aef324f-7d6e-48f9-ba42-9b1a0afd16e3",
   "metadata": {},
   "outputs": [
    {
     "data": {
      "text/plain": [
       "deque([0, 1, 2, 3, 4, 5, 6, 11, 22, 33])"
      ]
     },
     "execution_count": 14,
     "metadata": {},
     "output_type": "execute_result"
    }
   ],
   "source": [
    "dq"
   ]
  },
  {
   "cell_type": "code",
   "execution_count": 15,
   "id": "916bb1b2-6138-463f-a41f-9623e47160ce",
   "metadata": {},
   "outputs": [],
   "source": [
    "dq.extend([11, 22, 33]) "
   ]
  },
  {
   "cell_type": "code",
   "execution_count": 16,
   "id": "820e65f3-2f13-44fa-bae9-542e63fe69f2",
   "metadata": {},
   "outputs": [
    {
     "data": {
      "text/plain": [
       "deque([3, 4, 5, 6, 11, 22, 33, 11, 22, 33])"
      ]
     },
     "execution_count": 16,
     "metadata": {},
     "output_type": "execute_result"
    }
   ],
   "source": [
    "dq"
   ]
  },
  {
   "cell_type": "code",
   "execution_count": 17,
   "id": "cb9c1724-789d-4e97-8e97-4ff632f16b9c",
   "metadata": {},
   "outputs": [],
   "source": [
    " dq.extendleft([10, 20, 30, 40]) \n"
   ]
  },
  {
   "cell_type": "code",
   "execution_count": 18,
   "id": "7f49eba7-c758-4844-9129-911ac9a014ae",
   "metadata": {},
   "outputs": [
    {
     "data": {
      "text/plain": [
       "deque([40, 30, 20, 10, 3, 4, 5, 6, 11, 22])"
      ]
     },
     "execution_count": 18,
     "metadata": {},
     "output_type": "execute_result"
    }
   ],
   "source": [
    "dq"
   ]
  },
  {
   "cell_type": "code",
   "execution_count": null,
   "id": "d9cbe9d3-5284-48ce-9e36-572e61459eea",
   "metadata": {},
   "outputs": [],
   "source": []
  }
 ],
 "metadata": {
  "kernelspec": {
   "display_name": "Python 3 (ipykernel)",
   "language": "python",
   "name": "python3"
  },
  "language_info": {
   "codemirror_mode": {
    "name": "ipython",
    "version": 3
   },
   "file_extension": ".py",
   "mimetype": "text/x-python",
   "name": "python",
   "nbconvert_exporter": "python",
   "pygments_lexer": "ipython3",
   "version": "3.9.7"
  }
 },
 "nbformat": 4,
 "nbformat_minor": 5
}

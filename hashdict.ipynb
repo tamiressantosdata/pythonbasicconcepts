{
 "cells": [
  {
   "cell_type": "code",
   "execution_count": 3,
   "id": "4dc449b7-7108-4a2d-b7a6-64921e6abba5",
   "metadata": {},
   "outputs": [],
   "source": [
    "# dial codes of the top 10 most populous countries\n",
    "DIAL_CODES = [\n",
    " (86, 'China'),\n",
    " (91, 'India'),\n",
    " (1, 'United States'),\n",
    " (62, 'Indonesia'),\n",
    " (55, 'Brazil'),\n",
    " (92, 'Pakistan'),\n",
    " (880, 'Bangladesh'),\n",
    " (234, 'Nigeria'),\n",
    " (7, 'Russia'),\n",
    " (81, 'Japan'),\n",
    " ]\n",
    "d1 = dict(DIAL_CODES)"
   ]
  },
  {
   "cell_type": "code",
   "execution_count": 4,
   "id": "3a086f54-bb40-4d53-8ac1-4b013a62d50b",
   "metadata": {},
   "outputs": [
    {
     "data": {
      "text/plain": [
       "{86: 'China',\n",
       " 91: 'India',\n",
       " 1: 'United States',\n",
       " 62: 'Indonesia',\n",
       " 55: 'Brazil',\n",
       " 92: 'Pakistan',\n",
       " 880: 'Bangladesh',\n",
       " 234: 'Nigeria',\n",
       " 7: 'Russia',\n",
       " 81: 'Japan'}"
      ]
     },
     "execution_count": 4,
     "metadata": {},
     "output_type": "execute_result"
    }
   ],
   "source": [
    "d1"
   ]
  },
  {
   "cell_type": "code",
   "execution_count": 5,
   "id": "ffa1b363-87bf-4494-b062-d76ceb5aa4b8",
   "metadata": {},
   "outputs": [
    {
     "name": "stdout",
     "output_type": "stream",
     "text": [
      "d1: dict_keys([86, 91, 1, 62, 55, 92, 880, 234, 7, 81])\n"
     ]
    }
   ],
   "source": [
    "print('d1:', d1.keys())\n"
   ]
  },
  {
   "cell_type": "code",
   "execution_count": 6,
   "id": "cc0a8b60-7edb-4408-8385-2b6d2fd0649f",
   "metadata": {},
   "outputs": [],
   "source": [
    "d2 = dict(sorted(DIAL_CODES)) "
   ]
  },
  {
   "cell_type": "code",
   "execution_count": 11,
   "id": "51807cdd-0764-4efc-9df3-2e20bc1e8c5f",
   "metadata": {},
   "outputs": [],
   "source": [
    "d2 = dict(sorted(DIAL_CODES))"
   ]
  },
  {
   "cell_type": "code",
   "execution_count": 8,
   "id": "3155fb5e-5193-4b27-b7de-bb9a30be9482",
   "metadata": {},
   "outputs": [
    {
     "name": "stdout",
     "output_type": "stream",
     "text": [
      "d2: dict_keys([1, 7, 55, 62, 81, 86, 91, 92, 234, 880])\n"
     ]
    }
   ],
   "source": [
    "print('d2:', d2.keys())"
   ]
  },
  {
   "cell_type": "code",
   "execution_count": 9,
   "id": "13c623e3-99ac-46ab-97e8-059e2537e5ef",
   "metadata": {},
   "outputs": [],
   "source": [
    "d3 = dict(sorted(DIAL_CODES, key=lambda x:x[1])) "
   ]
  },
  {
   "cell_type": "code",
   "execution_count": 10,
   "id": "aeb77f12-2133-4cb7-9dd1-55fa367c4f75",
   "metadata": {},
   "outputs": [
    {
     "name": "stdout",
     "output_type": "stream",
     "text": [
      "d3: dict_keys([880, 55, 86, 91, 62, 81, 234, 92, 7, 1])\n"
     ]
    }
   ],
   "source": [
    "print('d3:', d3.keys())\n"
   ]
  },
  {
   "cell_type": "code",
   "execution_count": 12,
   "id": "241a5b15-1ac2-4be0-8df9-ff39fe446567",
   "metadata": {},
   "outputs": [],
   "source": [
    "assert d1 == d2 and d2 == d3 "
   ]
  },
  {
   "cell_type": "code",
   "execution_count": null,
   "id": "c91b93ef-8657-410b-8fa1-22d0e04ea857",
   "metadata": {},
   "outputs": [],
   "source": []
  }
 ],
 "metadata": {
  "kernelspec": {
   "display_name": "Python 3 (ipykernel)",
   "language": "python",
   "name": "python3"
  },
  "language_info": {
   "codemirror_mode": {
    "name": "ipython",
    "version": 3
   },
   "file_extension": ".py",
   "mimetype": "text/x-python",
   "name": "python",
   "nbconvert_exporter": "python",
   "pygments_lexer": "ipython3",
   "version": "3.9.7"
  }
 },
 "nbformat": 4,
 "nbformat_minor": 5
}

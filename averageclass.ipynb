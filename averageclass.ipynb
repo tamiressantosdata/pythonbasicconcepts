{
 "cells": [
  {
   "cell_type": "code",
   "execution_count": 11,
   "id": "c85c2e75-4f32-4ff9-935e-2facd2904435",
   "metadata": {},
   "outputs": [],
   "source": [
    "class Averager():\n",
    "    def __init__(self):\n",
    "        self.series=[]\n",
    "    def __call__(self,new_value):\n",
    "        self.series.append(new_value)\n",
    "        total=sum(self.series)\n",
    "        return total/len(self.series)\n"
   ]
  },
  {
   "cell_type": "code",
   "execution_count": 14,
   "id": "59cb44b3-801c-4488-8781-b393fa107cea",
   "metadata": {},
   "outputs": [],
   "source": [
    "avg = Averager()\n"
   ]
  },
  {
   "cell_type": "code",
   "execution_count": 15,
   "id": "c4e92f3a-f677-4c86-83b7-65e6461d98ee",
   "metadata": {},
   "outputs": [
    {
     "data": {
      "text/plain": [
       "10.0"
      ]
     },
     "execution_count": 15,
     "metadata": {},
     "output_type": "execute_result"
    }
   ],
   "source": [
    "avg(10)"
   ]
  },
  {
   "cell_type": "code",
   "execution_count": 16,
   "id": "ba6d75e5-43ed-4a28-a4ff-8519ad3d72f2",
   "metadata": {},
   "outputs": [
    {
     "data": {
      "text/plain": [
       "11.0"
      ]
     },
     "execution_count": 16,
     "metadata": {},
     "output_type": "execute_result"
    }
   ],
   "source": [
    "avg(12)"
   ]
  },
  {
   "cell_type": "code",
   "execution_count": null,
   "id": "a2da4b6e-482a-4aa8-a4e6-b4bf8b6bd58e",
   "metadata": {},
   "outputs": [],
   "source": []
  }
 ],
 "metadata": {
  "kernelspec": {
   "display_name": "Python 3 (ipykernel)",
   "language": "python",
   "name": "python3"
  },
  "language_info": {
   "codemirror_mode": {
    "name": "ipython",
    "version": 3
   },
   "file_extension": ".py",
   "mimetype": "text/x-python",
   "name": "python",
   "nbconvert_exporter": "python",
   "pygments_lexer": "ipython3",
   "version": "3.9.7"
  }
 },
 "nbformat": 4,
 "nbformat_minor": 5
}

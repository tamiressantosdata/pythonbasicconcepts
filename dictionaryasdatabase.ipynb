{
 "cells": [
  {
   "cell_type": "code",
   "execution_count": 6,
   "id": "27eead08-dbca-4a95-a8ec-dd4b0deb4264",
   "metadata": {},
   "outputs": [],
   "source": [
    "import math\n",
    "\n",
    "\n",
    "body = {'Sun': (1.988e30 , 6.955e5),\n",
    "'Mercury': (3.301e23 , 2440.) ,\n",
    "'Venus': (4.867e+24, 6052.) ,\n",
    "'Earth': (5.972e24 , 6371.) ,\n",
    "'Mars': (6.417e23 , 3390.) ,\n",
    "'Jupiter': (1.899e27 , 69911.) ,\n",
    "'Saturn': (5.685e26 , 58232.) ,\n",
    "'Uranus': (8.682e25 , 25362.) ,\n",
    "'Neptune': (1.024e26 , 24622.)\n",
    "}\n",
    "planets = list(body.keys ())\n",
    "# The sun isn ' t a planet!\n",
    "planets.remove('Sun')\n"
   ]
  },
  {
   "cell_type": "code",
   "execution_count": 17,
   "id": "ec439b93-028c-4aa8-bb8a-8da0e332d9b2",
   "metadata": {},
   "outputs": [
    {
     "name": "stdout",
     "output_type": "stream",
     "text": [
      "The density of Earth is 5.51 g/cm3\n",
      "The density of Jupiter is 1.33 g/cm3\n",
      "The density of Mars is 3.93 g/cm3\n",
      "The density of Mercury is 5.42 g/cm3\n",
      "The density of Neptune is 1.64 g/cm3\n",
      "The density of Saturn is 0.69 g/cm3\n",
      "The density of Uranus is 1.27 g/cm3\n",
      "The density of Venus is 5.24 g/cm3\n"
     ]
    }
   ],
   "source": [
    "def calc_density (m, r):\n",
    "    return m / (4/3 * math.pi * r**3)\n",
    "rho = {}\n",
    "for planet in planets:\n",
    "    m, r = body[planet]\n",
    "    # Calculate the density in g/cm3.\n",
    "    rho[planet] = calc_density (m*1000 , r*1.e5)\n",
    "for planet , density in sorted(rho.items ()):\n",
    "    print('The density of {0} is {1:3.2f} g/cm3'.format(planet , density ))"
   ]
  },
  {
   "cell_type": "code",
   "execution_count": null,
   "id": "696e2759-8441-4989-835d-2641f1e780af",
   "metadata": {},
   "outputs": [],
   "source": []
  }
 ],
 "metadata": {
  "kernelspec": {
   "display_name": "Python 3",
   "language": "python",
   "name": "python3"
  },
  "language_info": {
   "codemirror_mode": {
    "name": "ipython",
    "version": 3
   },
   "file_extension": ".py",
   "mimetype": "text/x-python",
   "name": "python",
   "nbconvert_exporter": "python",
   "pygments_lexer": "ipython3",
   "version": "3.8.8"
  }
 },
 "nbformat": 4,
 "nbformat_minor": 5
}

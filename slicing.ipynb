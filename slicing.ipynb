{
 "cells": [
  {
   "cell_type": "code",
   "execution_count": 1,
   "id": "8769496f-022f-400c-8255-4d852b2cbbff",
   "metadata": {},
   "outputs": [],
   "source": [
    "s = 'python' "
   ]
  },
  {
   "cell_type": "code",
   "execution_count": 4,
   "id": "286f9bd1-e3de-4f0c-9da8-9b4313cc5429",
   "metadata": {},
   "outputs": [
    {
     "data": {
      "text/plain": [
       "['p', 'y', 't', 'h', 'o', 'n']"
      ]
     },
     "execution_count": 4,
     "metadata": {},
     "output_type": "execute_result"
    }
   ],
   "source": [
    "list(s) "
   ]
  },
  {
   "cell_type": "code",
   "execution_count": 5,
   "id": "4135cc41-7312-4da6-9e74-487d1a13fb52",
   "metadata": {},
   "outputs": [
    {
     "data": {
      "text/plain": [
       "'pyt'"
      ]
     },
     "execution_count": 5,
     "metadata": {},
     "output_type": "execute_result"
    }
   ],
   "source": [
    " s[:3] "
   ]
  },
  {
   "cell_type": "code",
   "execution_count": null,
   "id": "8f72b83d-727f-4147-955d-ff4373cf4c13",
   "metadata": {},
   "outputs": [],
   "source": []
  }
 ],
 "metadata": {
  "kernelspec": {
   "display_name": "Python 3 (ipykernel)",
   "language": "python",
   "name": "python3"
  },
  "language_info": {
   "codemirror_mode": {
    "name": "ipython",
    "version": 3
   },
   "file_extension": ".py",
   "mimetype": "text/x-python",
   "name": "python",
   "nbconvert_exporter": "python",
   "pygments_lexer": "ipython3",
   "version": "3.9.7"
  }
 },
 "nbformat": 4,
 "nbformat_minor": 5
}

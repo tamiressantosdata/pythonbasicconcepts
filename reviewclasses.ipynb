{
 "cells": [
  {
   "cell_type": "code",
   "execution_count": 1,
   "id": "6d6ec6f8-f643-4517-b073-db93da3b65e5",
   "metadata": {},
   "outputs": [
    {
     "name": "stdout",
     "output_type": "stream",
     "text": [
      "0 is less than 10\n",
      "1 is less than 10\n",
      "2 is less than 10\n",
      "3 is less than 10\n",
      "4 is less than 10\n",
      "5 is less than 10\n",
      "6 is less than 10\n",
      "7 is less than 10\n",
      "8 is less than 10\n",
      "9 is less than 10\n"
     ]
    }
   ],
   "source": [
    "x = 0\n",
    "while x < 10:\n",
    " print(f\"{x} is less than 10\")\n",
    " x+= 1"
   ]
  },
  {
   "cell_type": "code",
   "execution_count": 2,
   "id": "08e9cdfe-1213-431a-a01a-94680858b4b8",
   "metadata": {},
   "outputs": [
    {
     "name": "stdout",
     "output_type": "stream",
     "text": [
      "0 is less than 10\n",
      "1 is less than 10\n",
      "2 is less than 10\n",
      "3 is less than 10\n",
      "4 is less than 10\n",
      "5 is less than 10\n",
      "6 is less than 10\n",
      "7 is less than 10\n",
      "8 is less than 10\n",
      "9 is less than 10\n"
     ]
    }
   ],
   "source": [
    "for x in range(10):\n",
    " print(f\"{x} is less than 10\")"
   ]
  },
  {
   "cell_type": "code",
   "execution_count": 3,
   "id": "4ef460a5-dcca-4e50-9252-ebba8bc88e71",
   "metadata": {},
   "outputs": [],
   "source": [
    "x = [4, 1, 2, 3]\n"
   ]
  },
  {
   "cell_type": "code",
   "execution_count": 4,
   "id": "bd5c3ac9-ecb0-4bd0-96c7-a71368ba5294",
   "metadata": {},
   "outputs": [],
   "source": [
    "x.sort()"
   ]
  },
  {
   "cell_type": "code",
   "execution_count": 5,
   "id": "134109c8-91ab-4539-a717-bc1ff22f8415",
   "metadata": {},
   "outputs": [
    {
     "data": {
      "text/plain": [
       "[1, 2, 3, 4]"
      ]
     },
     "execution_count": 5,
     "metadata": {},
     "output_type": "execute_result"
    }
   ],
   "source": [
    "x"
   ]
  },
  {
   "cell_type": "code",
   "execution_count": 7,
   "id": "13ef19e7-b578-406d-80a6-b7a5f2c90a25",
   "metadata": {},
   "outputs": [
    {
     "name": "stdout",
     "output_type": "stream",
     "text": [
      "None\n"
     ]
    }
   ],
   "source": [
    "import random\n",
    "random.seed(10)"
   ]
  },
  {
   "cell_type": "code",
   "execution_count": 8,
   "id": "3193d1b6-ff41-4c0c-b1f8-adfac5833b1e",
   "metadata": {},
   "outputs": [],
   "source": [
    "four_uniform_randoms = [random.random() for _ in range(4)]\n"
   ]
  },
  {
   "cell_type": "code",
   "execution_count": 9,
   "id": "7ab43911-978d-4d28-980e-8c44d2e04d03",
   "metadata": {},
   "outputs": [
    {
     "data": {
      "text/plain": [
       "[0.5714025946899135,\n",
       " 0.4288890546751146,\n",
       " 0.5780913011344704,\n",
       " 0.20609823213950174]"
      ]
     },
     "execution_count": 9,
     "metadata": {},
     "output_type": "execute_result"
    }
   ],
   "source": [
    "four_uniform_randoms \n"
   ]
  },
  {
   "cell_type": "code",
   "execution_count": 10,
   "id": "4d446a06-19a4-4e16-a69c-ce5fd4802c25",
   "metadata": {},
   "outputs": [],
   "source": [
    "random.seed(10)"
   ]
  },
  {
   "cell_type": "code",
   "execution_count": 11,
   "id": "ce2fd078-75cc-4270-87de-4134e53ba7ee",
   "metadata": {},
   "outputs": [
    {
     "name": "stdout",
     "output_type": "stream",
     "text": [
      "0.5714025946899135\n"
     ]
    }
   ],
   "source": [
    "print(random.random())"
   ]
  },
  {
   "cell_type": "code",
   "execution_count": 12,
   "id": "05a9f0cb-ecab-47a8-b73a-1ab83866c941",
   "metadata": {},
   "outputs": [],
   "source": [
    "random.seed(10) "
   ]
  },
  {
   "cell_type": "code",
   "execution_count": 13,
   "id": "41b2ce50-24e3-4ef9-b113-5474ec1ceca7",
   "metadata": {},
   "outputs": [
    {
     "name": "stdout",
     "output_type": "stream",
     "text": [
      "0.5714025946899135\n"
     ]
    }
   ],
   "source": [
    "print(random.random()) "
   ]
  },
  {
   "cell_type": "code",
   "execution_count": 14,
   "id": "7b438040-6f11-49d7-9e74-ea5ba1565526",
   "metadata": {},
   "outputs": [
    {
     "data": {
      "text/plain": [
       "6"
      ]
     },
     "execution_count": 14,
     "metadata": {},
     "output_type": "execute_result"
    }
   ],
   "source": [
    "random.randrange(10) "
   ]
  },
  {
   "cell_type": "code",
   "execution_count": 15,
   "id": "c572fb91-534f-4e24-98ca-69848a37a64c",
   "metadata": {},
   "outputs": [
    {
     "data": {
      "text/plain": [
       "4"
      ]
     },
     "execution_count": 15,
     "metadata": {},
     "output_type": "execute_result"
    }
   ],
   "source": [
    "random.randrange(3, 6)"
   ]
  },
  {
   "cell_type": "code",
   "execution_count": 16,
   "id": "b956bcae-cdaa-475e-baa6-d1a1619880fd",
   "metadata": {},
   "outputs": [
    {
     "data": {
      "text/plain": [
       "5"
      ]
     },
     "execution_count": 16,
     "metadata": {},
     "output_type": "execute_result"
    }
   ],
   "source": [
    "random.randrange(3, 6)"
   ]
  },
  {
   "cell_type": "code",
   "execution_count": 17,
   "id": "349eafd3-2492-417c-bb51-cdc0c25be2f0",
   "metadata": {},
   "outputs": [],
   "source": [
    "up_to_ten = [1, 2, 3, 4, 5, 6, 7, 8, 9, 10]\n",
    "random.shuffle(up_to_ten)\n"
   ]
  },
  {
   "cell_type": "code",
   "execution_count": 19,
   "id": "bc58524e-841f-447f-9f4b-df4c0ec5731e",
   "metadata": {},
   "outputs": [
    {
     "name": "stdout",
     "output_type": "stream",
     "text": [
      "[7, 4, 3, 8, 5, 10, 1, 2, 6, 9]\n"
     ]
    }
   ],
   "source": [
    "print(up_to_ten)"
   ]
  },
  {
   "cell_type": "code",
   "execution_count": 22,
   "id": "a6c18a17-88b1-4936-bf51-6cf8c4b3c5c7",
   "metadata": {},
   "outputs": [],
   "source": [
    "my_best_friend = random.choice([\"Nina\", \"Bento\", \"Babi\"]) "
   ]
  },
  {
   "cell_type": "code",
   "execution_count": 23,
   "id": "34754ce3-e921-4316-9dd3-97df01c5e7aa",
   "metadata": {},
   "outputs": [
    {
     "data": {
      "text/plain": [
       "'Bento'"
      ]
     },
     "execution_count": 23,
     "metadata": {},
     "output_type": "execute_result"
    }
   ],
   "source": [
    "my_best_friend"
   ]
  },
  {
   "cell_type": "code",
   "execution_count": 24,
   "id": "bcd47530-d320-4b7b-aeca-892c3f8ac011",
   "metadata": {},
   "outputs": [],
   "source": [
    "lottery_numbers = range(60)\n",
    "winning_numbers = random.sample(lottery_numbers, 6) "
   ]
  },
  {
   "cell_type": "code",
   "execution_count": 25,
   "id": "ab6aafdc-513f-455b-8f16-a920e8133835",
   "metadata": {},
   "outputs": [
    {
     "data": {
      "text/plain": [
       "[18, 52, 43, 16, 29, 11]"
      ]
     },
     "execution_count": 25,
     "metadata": {},
     "output_type": "execute_result"
    }
   ],
   "source": [
    "winning_numbers "
   ]
  },
  {
   "cell_type": "code",
   "execution_count": 26,
   "id": "3fd7f752-c8de-4075-86df-d2a007c714ef",
   "metadata": {},
   "outputs": [],
   "source": [
    "list1 = ['a', 'b', 'c']\n",
    "list2 = [1, 2, 3]\n"
   ]
  },
  {
   "cell_type": "code",
   "execution_count": 29,
   "id": "e80ed456-a6f1-4c42-b255-ba242ae0c177",
   "metadata": {},
   "outputs": [
    {
     "data": {
      "text/plain": [
       "[('a', 1), ('b', 2), ('c', 3)]"
      ]
     },
     "execution_count": 29,
     "metadata": {},
     "output_type": "execute_result"
    }
   ],
   "source": [
    "[pair for pair in zip(list1, list2)] "
   ]
  },
  {
   "cell_type": "code",
   "execution_count": 32,
   "id": "2cfa3985-17cc-4ba2-903c-da506f37aa87",
   "metadata": {},
   "outputs": [
    {
     "data": {
      "text/plain": [
       "'hi there'"
      ]
     },
     "execution_count": 32,
     "metadata": {},
     "output_type": "execute_result"
    }
   ],
   "source": [
    "def add(a: int, b: int) -> int:\n",
    " return a + b\n",
    "add(\"hi \", \"there\") # you'd like this to be not OK"
   ]
  },
  {
   "cell_type": "code",
   "execution_count": 33,
   "id": "f05a548a-2f67-4e59-8294-421887174ba6",
   "metadata": {},
   "outputs": [
    {
     "data": {
      "text/plain": [
       "15"
      ]
     },
     "execution_count": 33,
     "metadata": {},
     "output_type": "execute_result"
    }
   ],
   "source": [
    "add(10,5)"
   ]
  },
  {
   "cell_type": "code",
   "execution_count": null,
   "id": "c6a9d5dc-2de2-43dd-8c8b-2b24a9e1c415",
   "metadata": {},
   "outputs": [],
   "source": []
  }
 ],
 "metadata": {
  "kernelspec": {
   "display_name": "Python 3 (ipykernel)",
   "language": "python",
   "name": "python3"
  },
  "language_info": {
   "codemirror_mode": {
    "name": "ipython",
    "version": 3
   },
   "file_extension": ".py",
   "mimetype": "text/x-python",
   "name": "python",
   "nbconvert_exporter": "python",
   "pygments_lexer": "ipython3",
   "version": "3.9.7"
  }
 },
 "nbformat": 4,
 "nbformat_minor": 5
}

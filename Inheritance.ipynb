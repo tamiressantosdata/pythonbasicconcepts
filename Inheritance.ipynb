{
 "cells": [
  {
   "cell_type": "code",
   "execution_count": 40,
   "id": "0f6953ff-d06f-49e6-a29d-6cb46bd1fd2d",
   "metadata": {},
   "outputs": [],
   "source": [
    "class Person():\n",
    "    def __init__(self, name):\n",
    "        self.name = name\n"
   ]
  },
  {
   "cell_type": "code",
   "execution_count": 41,
   "id": "00c3dbc7-daf7-4b66-9799-044973ef5de9",
   "metadata": {},
   "outputs": [],
   "source": [
    "student=Person('TAMIRES')"
   ]
  },
  {
   "cell_type": "code",
   "execution_count": 42,
   "id": "8a1a7afb-6159-4d69-a803-14674159dbb6",
   "metadata": {},
   "outputs": [
    {
     "data": {
      "text/plain": [
       "<__main__.Person at 0x2168c7a64c0>"
      ]
     },
     "execution_count": 42,
     "metadata": {},
     "output_type": "execute_result"
    }
   ],
   "source": [
    "student"
   ]
  },
  {
   "cell_type": "code",
   "execution_count": 43,
   "id": "1413299d-5e62-4816-b126-0b011869af02",
   "metadata": {},
   "outputs": [
    {
     "name": "stdout",
     "output_type": "stream",
     "text": [
      "The happy student:  TAMIRES\n"
     ]
    }
   ],
   "source": [
    "print('The happy student: ', student.name)"
   ]
  },
  {
   "cell_type": "code",
   "execution_count": 44,
   "id": "3e2ab50b-b3f4-4862-be74-e4c88d1def55",
   "metadata": {},
   "outputs": [],
   "source": [
    "class MDPerson(Person):\n",
    "    def __init__(self,name):\n",
    "        self.name= \"Medical Doctor\" +\" \" +name"
   ]
  },
  {
   "cell_type": "code",
   "execution_count": 60,
   "id": "03ce4920-8a9a-43e7-8acf-f60d9c410a68",
   "metadata": {},
   "outputs": [],
   "source": [
    "class JDPerson(Person):\n",
    "    def __init___(self,name):\n",
    "        self.name= \"Judge\" +\" \"+name"
   ]
  },
  {
   "cell_type": "code",
   "execution_count": 61,
   "id": "e927b86c-e1d3-4afa-91b6-6a4824380419",
   "metadata": {},
   "outputs": [],
   "source": [
    "person = Person('Soares')\n",
    "doctor = MDPerson('Soares')\n",
    "lawyer = JDPerson('Soares')"
   ]
  },
  {
   "cell_type": "code",
   "execution_count": 62,
   "id": "af5ed815-eff5-42b1-8334-b8783c127a59",
   "metadata": {},
   "outputs": [
    {
     "data": {
      "text/plain": [
       "'Soares'"
      ]
     },
     "execution_count": 62,
     "metadata": {},
     "output_type": "execute_result"
    }
   ],
   "source": [
    "person.name"
   ]
  },
  {
   "cell_type": "code",
   "execution_count": 63,
   "id": "799d1548-31f7-4e5d-848a-1d1c675c14c7",
   "metadata": {},
   "outputs": [
    {
     "data": {
      "text/plain": [
       "'Medical Doctor Soares'"
      ]
     },
     "execution_count": 63,
     "metadata": {},
     "output_type": "execute_result"
    }
   ],
   "source": [
    "doctor.name"
   ]
  },
  {
   "cell_type": "code",
   "execution_count": 64,
   "id": "ea3a5bde-9cf4-446a-9470-85d7414558df",
   "metadata": {},
   "outputs": [
    {
     "data": {
      "text/plain": [
       "'Soares'"
      ]
     },
     "execution_count": 64,
     "metadata": {},
     "output_type": "execute_result"
    }
   ],
   "source": [
    "lawyer.name"
   ]
  },
  {
   "cell_type": "code",
   "execution_count": null,
   "id": "0623ba77-360e-45dc-a53c-8f8991050eb3",
   "metadata": {},
   "outputs": [],
   "source": []
  },
  {
   "cell_type": "code",
   "execution_count": null,
   "id": "266b9ddd-0836-4cc6-ab14-252261aa7aa7",
   "metadata": {},
   "outputs": [],
   "source": []
  }
 ],
 "metadata": {
  "kernelspec": {
   "display_name": "Python 3 (ipykernel)",
   "language": "python",
   "name": "python3"
  },
  "language_info": {
   "codemirror_mode": {
    "name": "ipython",
    "version": 3
   },
   "file_extension": ".py",
   "mimetype": "text/x-python",
   "name": "python",
   "nbconvert_exporter": "python",
   "pygments_lexer": "ipython3",
   "version": "3.9.7"
  }
 },
 "nbformat": 4,
 "nbformat_minor": 5
}

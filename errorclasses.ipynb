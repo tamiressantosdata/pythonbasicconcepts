{
 "cells": [
  {
   "cell_type": "code",
   "execution_count": 74,
   "id": "0049b17f-089b-4c5d-b8e3-7fbe6ff5acd7",
   "metadata": {},
   "outputs": [],
   "source": [
    "import typing\n",
    "class City(typing.NamedTuple):\n",
    " continent: str\n",
    " name: str\n",
    " country: str"
   ]
  },
  {
   "cell_type": "code",
   "execution_count": 75,
   "id": "4a717f5d-746e-4af5-8c8a-e28c47f68746",
   "metadata": {},
   "outputs": [],
   "source": [
    "cities = [\n",
    " City('Asia', 'Tokyo', 'JP'),\n",
    " City('Asia', 'Delhi', 'IN'),\n",
    " City('North America', 'Mexico City', 'MX'),\n",
    " City('North America', 'New York', 'US'),\n",
    " City('South America', 'São Paulo', 'BR'),\n",
    "]"
   ]
  },
  {
   "cell_type": "code",
   "execution_count": 82,
   "id": "9ce5810f-d232-4383-aaa0-f5bcd5d490e8",
   "metadata": {},
   "outputs": [
    {
     "ename": "SyntaxError",
     "evalue": "invalid syntax (Temp/ipykernel_5884/3291895184.py, line 4)",
     "output_type": "error",
     "traceback": [
      "\u001b[1;36m  File \u001b[1;32m\"C:\\Users\\tamir\\AppData\\Local\\Temp/ipykernel_5884/3291895184.py\"\u001b[1;36m, line \u001b[1;32m4\u001b[0m\n\u001b[1;33m    match city:\u001b[0m\n\u001b[1;37m          ^\u001b[0m\n\u001b[1;31mSyntaxError\u001b[0m\u001b[1;31m:\u001b[0m invalid syntax\n"
     ]
    }
   ],
   "source": [
    "def match_brazil():\n",
    "    results = []\n",
    "    for city in cities:\n",
    "        match city:\n",
    "            case City(country='BR', name=name):\n",
    "                results.append(name)\n",
    "    return results\n",
    "\n",
    "\n"
   ]
  },
  {
   "cell_type": "code",
   "execution_count": 83,
   "id": "640d4309-d76e-4b99-87ec-c70a9c58e2aa",
   "metadata": {},
   "outputs": [
    {
     "ename": "NameError",
     "evalue": "name 'match_brazil' is not defined",
     "output_type": "error",
     "traceback": [
      "\u001b[1;31m---------------------------------------------------------------------------\u001b[0m",
      "\u001b[1;31mNameError\u001b[0m                                 Traceback (most recent call last)",
      "\u001b[1;32m~\\AppData\\Local\\Temp/ipykernel_5884/1218407847.py\u001b[0m in \u001b[0;36m<module>\u001b[1;34m\u001b[0m\n\u001b[1;32m----> 1\u001b[1;33m \u001b[0mmatch_brazil\u001b[0m\u001b[1;33m(\u001b[0m\u001b[1;33m)\u001b[0m\u001b[1;33m\u001b[0m\u001b[1;33m\u001b[0m\u001b[0m\n\u001b[0m",
      "\u001b[1;31mNameError\u001b[0m: name 'match_brazil' is not defined"
     ]
    }
   ],
   "source": [
    "match_brazil()"
   ]
  },
  {
   "cell_type": "code",
   "execution_count": null,
   "id": "756d1630-105b-4891-ad56-5069d46cf563",
   "metadata": {},
   "outputs": [],
   "source": []
  },
  {
   "cell_type": "code",
   "execution_count": null,
   "id": "339b59dc-b78a-41d0-a450-89c0c77c2eb0",
   "metadata": {},
   "outputs": [],
   "source": []
  }
 ],
 "metadata": {
  "kernelspec": {
   "display_name": "Python 3 (ipykernel)",
   "language": "python",
   "name": "python3"
  },
  "language_info": {
   "codemirror_mode": {
    "name": "ipython",
    "version": 3
   },
   "file_extension": ".py",
   "mimetype": "text/x-python",
   "name": "python",
   "nbconvert_exporter": "python",
   "pygments_lexer": "ipython3",
   "version": "3.9.7"
  }
 },
 "nbformat": 4,
 "nbformat_minor": 5
}

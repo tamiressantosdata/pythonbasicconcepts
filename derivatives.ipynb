{
 "cells": [
  {
   "cell_type": "code",
   "execution_count": 6,
   "id": "ab3730e5-e274-4ea3-8e85-efe3089d08d4",
   "metadata": {},
   "outputs": [],
   "source": [
    "from typing import Callable\n",
    "def difference_quotient(f: Callable[[float], float],\n",
    " x: float,h: float):\n",
    "     return (f(x + h) - f(x)) / h\n",
    "\n"
   ]
  },
  {
   "cell_type": "code",
   "execution_count": 7,
   "id": "d63acfdf-97af-4c22-89b4-883e06e782cf",
   "metadata": {},
   "outputs": [],
   "source": [
    "def square(x: float):\n",
    "    return x * x"
   ]
  },
  {
   "cell_type": "code",
   "execution_count": 8,
   "id": "c2ce0d1f-89ef-4162-a9c9-927f590cda9f",
   "metadata": {},
   "outputs": [],
   "source": [
    "def derivative(x: float):\n",
    "     return 2 * x"
   ]
  },
  {
   "cell_type": "code",
   "execution_count": 9,
   "id": "7f65057d-0d72-4e97-9d0a-59a5e05d4930",
   "metadata": {},
   "outputs": [
    {
     "data": {
      "image/png": "[encoded data removed]",
      "text/plain": [
       "<Figure size 432x288 with 1 Axes>"
      ]
     },
     "metadata": {
      "needs_background": "light"
     },
     "output_type": "display_data"
    }
   ],
   "source": [
    "xs = range(-10, 11)\n",
    "actuals = [derivative(x) for x in xs]\n",
    "estimates = [difference_quotient(square, x, h=0.001) for x in xs]\n",
    "# plot to show they're basically the same\n",
    "import matplotlib.pyplot as plt\n",
    "plt.title(\"Actual Derivatives vs. Estimates\")\n",
    "plt.plot(xs, actuals, 'rx', label='Actual') # red x\n",
    "plt.plot(xs, estimates, 'b+', label='Estimate') # blue +\n",
    "plt.legend(loc=9)\n",
    "plt.show()\n"
   ]
  },
  {
   "cell_type": "code",
   "execution_count": null,
   "id": "a5268e99-cc42-478a-a405-6eaa43a151f7",
   "metadata": {},
   "outputs": [],
   "source": []
  },
  {
   "cell_type": "code",
   "execution_count": null,
   "id": "26786aec-18b3-4c5d-a372-7a517af75fb3",
   "metadata": {},
   "outputs": [],
   "source": []
  }
 ],
 "metadata": {
  "kernelspec": {
   "display_name": "Python 3 (ipykernel)",
   "language": "python",
   "name": "python3"
  },
  "language_info": {
   "codemirror_mode": {
    "name": "ipython",
    "version": 3
   },
   "file_extension": ".py",
   "mimetype": "text/x-python",
   "name": "python",
   "nbconvert_exporter": "python",
   "pygments_lexer": "ipython3",
   "version": "3.9.7"
  }
 },
 "nbformat": 4,
 "nbformat_minor": 5
}

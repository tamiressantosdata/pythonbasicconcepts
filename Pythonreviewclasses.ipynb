{
 "cells": [
  {
   "cell_type": "code",
   "execution_count": 1,
   "id": "4c87419b-1037-4068-9149-b9c8378ed5ec",
   "metadata": {},
   "outputs": [],
   "source": [
    "import re\n",
    "my_regex = re.compile(\"[0-9]+\", re.I)\n"
   ]
  },
  {
   "cell_type": "code",
   "execution_count": 2,
   "id": "54fe7ce1-9774-49a8-b412-767f506fd248",
   "metadata": {},
   "outputs": [
    {
     "data": {
      "text/plain": [
       "re.compile(r'[0-9]+', re.IGNORECASE|re.UNICODE)"
      ]
     },
     "execution_count": 2,
     "metadata": {},
     "output_type": "execute_result"
    }
   ],
   "source": [
    "my_regex"
   ]
  },
  {
   "cell_type": "code",
   "execution_count": 3,
   "id": "095375df-fdbc-4c24-94c5-c7578ed9c6e5",
   "metadata": {},
   "outputs": [],
   "source": [
    "import re as regex\n",
    "my_regex = regex.compile(\"[0-9]+\", regex.I)\n"
   ]
  },
  {
   "cell_type": "code",
   "execution_count": 4,
   "id": "e024f633-15c7-4c2b-9f0e-d8b15533bfd1",
   "metadata": {},
   "outputs": [
    {
     "data": {
      "text/plain": [
       "re.compile(r'[0-9]+', re.IGNORECASE|re.UNICODE)"
      ]
     },
     "execution_count": 4,
     "metadata": {},
     "output_type": "execute_result"
    }
   ],
   "source": [
    "my_regex"
   ]
  },
  {
   "cell_type": "code",
   "execution_count": 5,
   "id": "47c89ed1-a9d8-43fa-8adf-f5719a654547",
   "metadata": {},
   "outputs": [],
   "source": [
    "from collections import defaultdict, Counter\n",
    "lookup = defaultdict(int)\n",
    "my_counter = Counter()\n"
   ]
  },
  {
   "cell_type": "code",
   "execution_count": 6,
   "id": "00b43860-2813-4b3a-a18c-5e97864fc796",
   "metadata": {},
   "outputs": [
    {
     "data": {
      "text/plain": [
       "Counter()"
      ]
     },
     "execution_count": 6,
     "metadata": {},
     "output_type": "execute_result"
    }
   ],
   "source": [
    "my_counter"
   ]
  },
  {
   "cell_type": "code",
   "execution_count": 7,
   "id": "4085b0f5-8e7e-4063-9adc-c6350fab8364",
   "metadata": {},
   "outputs": [
    {
     "name": "stdout",
     "output_type": "stream",
     "text": [
      "<function match at 0x0000028E983829D0>\n"
     ]
    }
   ],
   "source": [
    "#notagoodidea\n",
    "match = 10\n",
    "from re import * # uh oh, re has a match function\n",
    "print(match) # \"<function match at 0x10281e6a8>\""
   ]
  },
  {
   "cell_type": "code",
   "execution_count": 8,
   "id": "779575b7-d48d-4339-a573-273bf86d18a8",
   "metadata": {},
   "outputs": [],
   "source": [
    "#functions "
   ]
  },
  {
   "cell_type": "code",
   "execution_count": 9,
   "id": "4b845373-0607-42e5-997f-209c1cd346c9",
   "metadata": {},
   "outputs": [],
   "source": [
    "def double(x):\n",
    "    return x * 2\n",
    " "
   ]
  },
  {
   "cell_type": "code",
   "execution_count": 10,
   "id": "f2f1d0c0-2b87-40b8-a0fb-975ca12595a1",
   "metadata": {},
   "outputs": [
    {
     "data": {
      "text/plain": [
       "4"
      ]
     },
     "execution_count": 10,
     "metadata": {},
     "output_type": "execute_result"
    }
   ],
   "source": [
    "double(2)"
   ]
  },
  {
   "cell_type": "code",
   "execution_count": 14,
   "id": "f0aa17d1-40fd-4e0d-a09f-0b0cbb7ae7e4",
   "metadata": {},
   "outputs": [],
   "source": [
    "def apply_to_one(f):\n",
    "     return f(1)"
   ]
  },
  {
   "cell_type": "code",
   "execution_count": 15,
   "id": "4ed7a453-4bd6-4795-b6a9-c8a65feffd3e",
   "metadata": {},
   "outputs": [],
   "source": [
    "my_double = double # refers to the previously defined function\n",
    "x = apply_to_one(my_double) "
   ]
  },
  {
   "cell_type": "code",
   "execution_count": 16,
   "id": "d9789fe2-6e1d-488e-85d1-e74c7627ed8c",
   "metadata": {},
   "outputs": [
    {
     "data": {
      "text/plain": [
       "2"
      ]
     },
     "execution_count": 16,
     "metadata": {},
     "output_type": "execute_result"
    }
   ],
   "source": [
    "x"
   ]
  },
  {
   "cell_type": "code",
   "execution_count": 17,
   "id": "c95a1c24-2d3a-433e-aed1-d87bbe7fcb72",
   "metadata": {},
   "outputs": [],
   "source": [
    "y = apply_to_one(lambda x: x + 4) #create functions using lambda "
   ]
  },
  {
   "cell_type": "code",
   "execution_count": 18,
   "id": "c17957ef-e736-459f-9442-3b42013a62cd",
   "metadata": {},
   "outputs": [
    {
     "data": {
      "text/plain": [
       "5"
      ]
     },
     "execution_count": 18,
     "metadata": {},
     "output_type": "execute_result"
    }
   ],
   "source": [
    "y"
   ]
  },
  {
   "cell_type": "code",
   "execution_count": 19,
   "id": "f2d01d50-cc50-4ea3-bbdd-5b274ea09a6e",
   "metadata": {},
   "outputs": [],
   "source": [
    "another_double = lambda x: 2 * x # don't do this\n",
    "def another_double(x):\n",
    " \"\"\"Do this instead\"\"\"\n",
    " return 2 * x\n"
   ]
  },
  {
   "cell_type": "code",
   "execution_count": 21,
   "id": "e65cdf82-fb1a-4860-9911-bdb86b84133f",
   "metadata": {},
   "outputs": [
    {
     "data": {
      "text/plain": [
       "8"
      ]
     },
     "execution_count": 21,
     "metadata": {},
     "output_type": "execute_result"
    }
   ],
   "source": [
    "another_double(4)"
   ]
  },
  {
   "cell_type": "code",
   "execution_count": 22,
   "id": "0ff5ad2f-349c-4d75-be82-99ec6bd06a09",
   "metadata": {},
   "outputs": [],
   "source": [
    "def my_print(message = \"my default message\"):\n",
    " print(message)"
   ]
  },
  {
   "cell_type": "code",
   "execution_count": 24,
   "id": "74f04ae4-8c03-4213-8cc1-e3fed6f9e4ad",
   "metadata": {},
   "outputs": [
    {
     "name": "stdout",
     "output_type": "stream",
     "text": [
      "hello world!\n"
     ]
    }
   ],
   "source": [
    "my_print(\"hello world!\")"
   ]
  },
  {
   "cell_type": "code",
   "execution_count": 25,
   "id": "9c4e3995-3f95-407f-976b-523c4c8dcbe4",
   "metadata": {},
   "outputs": [],
   "source": [
    "def full_name(first = \"What's-his-name\", last = \"Something\"):\n",
    " return first + \" \" + last"
   ]
  },
  {
   "cell_type": "code",
   "execution_count": 27,
   "id": "810c1242-ba78-4ace-8d82-510f37bf5a12",
   "metadata": {},
   "outputs": [
    {
     "data": {
      "text/plain": [
       "'Tamires Soares'"
      ]
     },
     "execution_count": 27,
     "metadata": {},
     "output_type": "execute_result"
    }
   ],
   "source": [
    "full_name(\"Tamires\",\"Soares\")"
   ]
  },
  {
   "cell_type": "code",
   "execution_count": 28,
   "id": "d1a38e39-237e-4927-9e4d-b212a5011e28",
   "metadata": {},
   "outputs": [],
   "source": [
    "single_quoted_string = 'data science'\n",
    "double_quoted_string = \"data science\""
   ]
  },
  {
   "cell_type": "code",
   "execution_count": 29,
   "id": "770da517-823b-44eb-bccc-7916ac857efc",
   "metadata": {},
   "outputs": [
    {
     "data": {
      "text/plain": [
       "'data science'"
      ]
     },
     "execution_count": 29,
     "metadata": {},
     "output_type": "execute_result"
    }
   ],
   "source": [
    "single_quoted_string"
   ]
  },
  {
   "cell_type": "code",
   "execution_count": 30,
   "id": "014db633-4c2c-4966-a54f-a91b5d007c50",
   "metadata": {},
   "outputs": [
    {
     "data": {
      "text/plain": [
       "'data science'"
      ]
     },
     "execution_count": 30,
     "metadata": {},
     "output_type": "execute_result"
    }
   ],
   "source": [
    "double_quoted_string"
   ]
  },
  {
   "cell_type": "code",
   "execution_count": 31,
   "id": "a3a05989-8d97-4130-b1b0-59cc77dd915a",
   "metadata": {},
   "outputs": [],
   "source": [
    "multi_line_string = \"\"\"This is the first line.\n",
    "and this is the second line\n",
    "and this is the third line\"\"\""
   ]
  },
  {
   "cell_type": "markdown",
   "id": "5b4c8a98-4d98-41c1-809d-01425968b9b6",
   "metadata": {},
   "source": [
    "multi_line_string"
   ]
  },
  {
   "cell_type": "code",
   "execution_count": 33,
   "id": "3931aff5-4448-4ebf-a5fc-28daeb8e71ec",
   "metadata": {},
   "outputs": [
    {
     "data": {
      "text/plain": [
       "'This is the first line.\\nand this is the second line\\nand this is the third line'"
      ]
     },
     "execution_count": 33,
     "metadata": {},
     "output_type": "execute_result"
    }
   ],
   "source": [
    "multi_line_string"
   ]
  },
  {
   "cell_type": "code",
   "execution_count": 34,
   "id": "94183806-eae4-49e8-88f0-c05ab72ddafe",
   "metadata": {},
   "outputs": [],
   "source": [
    "first_name = \"Tamires\"\n",
    "last_name = \"Soares\""
   ]
  },
  {
   "cell_type": "code",
   "execution_count": 35,
   "id": "0c9f6b5d-6f8c-4903-8808-5d5111b48240",
   "metadata": {},
   "outputs": [],
   "source": [
    "full_name = f\"{first_name} {last_name}\""
   ]
  },
  {
   "cell_type": "code",
   "execution_count": 36,
   "id": "4207552f-5755-4f52-ae6d-4a2605152c86",
   "metadata": {},
   "outputs": [
    {
     "data": {
      "text/plain": [
       "'Tamires Soares'"
      ]
     },
     "execution_count": 36,
     "metadata": {},
     "output_type": "execute_result"
    }
   ],
   "source": [
    "full_name"
   ]
  },
  {
   "cell_type": "code",
   "execution_count": 37,
   "id": "cd62a053-7c40-4b68-954b-0917b61b7449",
   "metadata": {},
   "outputs": [],
   "source": [
    "#Lists"
   ]
  },
  {
   "cell_type": "code",
   "execution_count": 38,
   "id": "c2f5f2b9-079b-40ea-82dd-66cdeaf08114",
   "metadata": {},
   "outputs": [],
   "source": [
    "x = [0, 1, 2, 3, 4, 5, 6, 7, 8, 9]\n"
   ]
  },
  {
   "cell_type": "code",
   "execution_count": 39,
   "id": "f2030b1c-2700-40bd-b1ac-43b8952a5a2d",
   "metadata": {},
   "outputs": [],
   "source": [
    "zero = x[0] # equals 0, lists are 0-indexed\n",
    "one = x[1] # equals 1\n",
    "nine = x[-1] # equals 9, 'Pythonic' for last element\n",
    "eight = x[-2] # equals 8, 'Pythonic' for next-to-last element\n",
    "x[0] = -1 # now x is [-1, 1, 2, 3, ..., 9]"
   ]
  },
  {
   "cell_type": "code",
   "execution_count": 40,
   "id": "b3727a1b-7f3e-4fdd-8ca2-adde727d60cb",
   "metadata": {},
   "outputs": [
    {
     "data": {
      "text/plain": [
       "0"
      ]
     },
     "execution_count": 40,
     "metadata": {},
     "output_type": "execute_result"
    }
   ],
   "source": [
    "zero"
   ]
  },
  {
   "cell_type": "code",
   "execution_count": 42,
   "id": "ee3f4e2b-3594-4ab6-954d-235aa82eb934",
   "metadata": {},
   "outputs": [
    {
     "data": {
      "text/plain": [
       "9"
      ]
     },
     "execution_count": 42,
     "metadata": {},
     "output_type": "execute_result"
    }
   ],
   "source": [
    "nine"
   ]
  },
  {
   "cell_type": "code",
   "execution_count": 41,
   "id": "040f0b30-3907-430a-a9a4-4436e37ca2e1",
   "metadata": {},
   "outputs": [
    {
     "data": {
      "text/plain": [
       "1"
      ]
     },
     "execution_count": 41,
     "metadata": {},
     "output_type": "execute_result"
    }
   ],
   "source": [
    "one"
   ]
  },
  {
   "cell_type": "code",
   "execution_count": 43,
   "id": "a27ab93d-7c39-4f79-9148-f39c49bcf353",
   "metadata": {},
   "outputs": [],
   "source": [
    "x[0]=-1"
   ]
  },
  {
   "cell_type": "code",
   "execution_count": 48,
   "id": "48188edb-105e-4cfd-be43-faa0736b3882",
   "metadata": {},
   "outputs": [
    {
     "data": {
      "text/plain": [
       "[-1, 1, 2, 3, 4, 5, 6, 7, 8, 9]"
      ]
     },
     "execution_count": 48,
     "metadata": {},
     "output_type": "execute_result"
    }
   ],
   "source": [
    "x"
   ]
  },
  {
   "cell_type": "code",
   "execution_count": 49,
   "id": "9eeb3d39-84fe-4069-945a-486350326e59",
   "metadata": {},
   "outputs": [
    {
     "data": {
      "text/plain": [
       "[-1, 1, 2]"
      ]
     },
     "execution_count": 49,
     "metadata": {},
     "output_type": "execute_result"
    }
   ],
   "source": [
    "x[:3]"
   ]
  },
  {
   "cell_type": "code",
   "execution_count": 50,
   "id": "eac21e49-20a1-436c-91af-a275c034a7b4",
   "metadata": {},
   "outputs": [
    {
     "data": {
      "text/plain": [
       "[3, 4, 5, 6, 7, 8, 9]"
      ]
     },
     "execution_count": 50,
     "metadata": {},
     "output_type": "execute_result"
    }
   ],
   "source": [
    "x[3:]"
   ]
  },
  {
   "cell_type": "code",
   "execution_count": 51,
   "id": "cd66eb67-e260-4321-9f00-9f695e4aaf36",
   "metadata": {},
   "outputs": [
    {
     "data": {
      "text/plain": [
       "[1, 2, 3, 4]"
      ]
     },
     "execution_count": 51,
     "metadata": {},
     "output_type": "execute_result"
    }
   ],
   "source": [
    "x[1:5]"
   ]
  },
  {
   "cell_type": "code",
   "execution_count": 52,
   "id": "2177a804-c72d-4db1-a3d4-8bd2c3d5b225",
   "metadata": {},
   "outputs": [],
   "source": [
    "copy_of_x = x[:]"
   ]
  },
  {
   "cell_type": "code",
   "execution_count": 53,
   "id": "cda72ee5-076b-408b-ab5e-18e41b7138cf",
   "metadata": {},
   "outputs": [
    {
     "data": {
      "text/plain": [
       "[-1, 1, 2, 3, 4, 5, 6, 7, 8, 9]"
      ]
     },
     "execution_count": 53,
     "metadata": {},
     "output_type": "execute_result"
    }
   ],
   "source": [
    "copy_of_x"
   ]
  },
  {
   "cell_type": "code",
   "execution_count": 54,
   "id": "c74bc4a9-6852-4d54-912b-b8c0c4282852",
   "metadata": {},
   "outputs": [
    {
     "data": {
      "text/plain": [
       "True"
      ]
     },
     "execution_count": 54,
     "metadata": {},
     "output_type": "execute_result"
    }
   ],
   "source": [
    "1 in [1, 2, 3]"
   ]
  },
  {
   "cell_type": "code",
   "execution_count": 55,
   "id": "a67ac631-f038-4816-9975-ee12c24212f3",
   "metadata": {},
   "outputs": [
    {
     "data": {
      "text/plain": [
       "False"
      ]
     },
     "execution_count": 55,
     "metadata": {},
     "output_type": "execute_result"
    }
   ],
   "source": [
    "0 in [1, 2, 3]"
   ]
  },
  {
   "cell_type": "code",
   "execution_count": 56,
   "id": "054974a3-5079-45ca-941f-933872adb040",
   "metadata": {},
   "outputs": [],
   "source": [
    "x = [1, 2, 3]"
   ]
  },
  {
   "cell_type": "code",
   "execution_count": 57,
   "id": "eb0b43c0-5143-419f-9a73-b6182118bcb1",
   "metadata": {},
   "outputs": [],
   "source": [
    "x.extend([4, 5, 6])"
   ]
  },
  {
   "cell_type": "code",
   "execution_count": 58,
   "id": "4f40dbbe-801d-40b8-ba94-8e82927f0819",
   "metadata": {},
   "outputs": [
    {
     "data": {
      "text/plain": [
       "[1, 2, 3, 4, 5, 6]"
      ]
     },
     "execution_count": 58,
     "metadata": {},
     "output_type": "execute_result"
    }
   ],
   "source": [
    "x"
   ]
  },
  {
   "cell_type": "code",
   "execution_count": 59,
   "id": "9e3a3c44-47cb-4469-9b69-1592bb6b589a",
   "metadata": {},
   "outputs": [],
   "source": [
    "x = [1, 2, 3]\n",
    "y = x + [4, 5, 6]"
   ]
  },
  {
   "cell_type": "code",
   "execution_count": 60,
   "id": "d8a17429-3f68-49f3-ae3f-e18ed75404ef",
   "metadata": {},
   "outputs": [
    {
     "data": {
      "text/plain": [
       "[1, 2, 3, 4, 5, 6]"
      ]
     },
     "execution_count": 60,
     "metadata": {},
     "output_type": "execute_result"
    }
   ],
   "source": [
    "y"
   ]
  },
  {
   "cell_type": "code",
   "execution_count": 61,
   "id": "6d05513e-5bd9-438e-a145-c2ead44a1353",
   "metadata": {},
   "outputs": [],
   "source": [
    "x = [1, 2, 3]\n",
    "x.append(0) # x is now [1, 2, 3, 0]"
   ]
  },
  {
   "cell_type": "code",
   "execution_count": 62,
   "id": "b4a2acbf-b212-4f0f-b84d-92355a32f661",
   "metadata": {},
   "outputs": [
    {
     "data": {
      "text/plain": [
       "[1, 2, 3, 0]"
      ]
     },
     "execution_count": 62,
     "metadata": {},
     "output_type": "execute_result"
    }
   ],
   "source": [
    "x"
   ]
  },
  {
   "cell_type": "code",
   "execution_count": 63,
   "id": "27e3a801-9e4d-4bac-af95-3054bdcc301a",
   "metadata": {},
   "outputs": [],
   "source": [
    "z = len(x) # equals 4"
   ]
  },
  {
   "cell_type": "code",
   "execution_count": 64,
   "id": "33adc223-ffb3-40bc-bde1-2c3a99154bdf",
   "metadata": {},
   "outputs": [
    {
     "data": {
      "text/plain": [
       "4"
      ]
     },
     "execution_count": 64,
     "metadata": {},
     "output_type": "execute_result"
    }
   ],
   "source": [
    "z"
   ]
  },
  {
   "cell_type": "code",
   "execution_count": null,
   "id": "b7bf4355-03ff-4ca8-8850-b372967bb53a",
   "metadata": {},
   "outputs": [],
   "source": []
  }
 ],
 "metadata": {
  "kernelspec": {
   "display_name": "Python 3 (ipykernel)",
   "language": "python",
   "name": "python3"
  },
  "language_info": {
   "codemirror_mode": {
    "name": "ipython",
    "version": 3
   },
   "file_extension": ".py",
   "mimetype": "text/x-python",
   "name": "python",
   "nbconvert_exporter": "python",
   "pygments_lexer": "ipython3",
   "version": "3.9.7"
  }
 },
 "nbformat": 4,
 "nbformat_minor": 5
}

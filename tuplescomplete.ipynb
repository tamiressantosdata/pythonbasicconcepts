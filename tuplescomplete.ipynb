{
 "cells": [
  {
   "cell_type": "code",
   "execution_count": 1,
   "id": "f456d975-ebd7-4ac0-8e1c-cec957ea775b",
   "metadata": {},
   "outputs": [],
   "source": [
    "tup = 4, 5, 6"
   ]
  },
  {
   "cell_type": "code",
   "execution_count": 2,
   "id": "d4beea86-2d2f-4330-bfdf-7f36c050bff7",
   "metadata": {},
   "outputs": [
    {
     "data": {
      "text/plain": [
       "(4, 5, 6)"
      ]
     },
     "execution_count": 2,
     "metadata": {},
     "output_type": "execute_result"
    }
   ],
   "source": [
    "tup"
   ]
  },
  {
   "cell_type": "code",
   "execution_count": 3,
   "id": "43210d1d-036e-4820-b0ac-3dec1e5f59cd",
   "metadata": {},
   "outputs": [],
   "source": [
    " nested_tup = (4, 5, 6), (7, 8)"
   ]
  },
  {
   "cell_type": "code",
   "execution_count": 4,
   "id": "d46cbfc5-31a2-497c-9599-6fee94de6270",
   "metadata": {},
   "outputs": [
    {
     "data": {
      "text/plain": [
       "((4, 5, 6), (7, 8))"
      ]
     },
     "execution_count": 4,
     "metadata": {},
     "output_type": "execute_result"
    }
   ],
   "source": [
    "nested_tup"
   ]
  },
  {
   "cell_type": "code",
   "execution_count": 5,
   "id": "c12a2441-ddd6-45b0-8146-a1f84487f7c9",
   "metadata": {},
   "outputs": [],
   "source": [
    "tup = tuple('string')"
   ]
  },
  {
   "cell_type": "code",
   "execution_count": 6,
   "id": "1fba39af-9ea9-4a5c-89df-d7d4b9669a1f",
   "metadata": {},
   "outputs": [
    {
     "data": {
      "text/plain": [
       "('s', 't', 'r', 'i', 'n', 'g')"
      ]
     },
     "execution_count": 6,
     "metadata": {},
     "output_type": "execute_result"
    }
   ],
   "source": [
    "tup"
   ]
  },
  {
   "cell_type": "code",
   "execution_count": 7,
   "id": "d3a0d43c-af5a-4236-85fb-393a9cd0a750",
   "metadata": {},
   "outputs": [
    {
     "data": {
      "text/plain": [
       "'s'"
      ]
     },
     "execution_count": 7,
     "metadata": {},
     "output_type": "execute_result"
    }
   ],
   "source": [
    "tup[0]"
   ]
  },
  {
   "cell_type": "code",
   "execution_count": 8,
   "id": "a1795678-29b8-4633-b9ef-6d10753a35c2",
   "metadata": {},
   "outputs": [],
   "source": [
    " tup = tuple(['foo', [1, 2], True])\n"
   ]
  },
  {
   "cell_type": "code",
   "execution_count": 9,
   "id": "2b65e1ec-e830-4ba9-af7a-16bf0250bc6e",
   "metadata": {},
   "outputs": [],
   "source": [
    "tup[1].append(3)"
   ]
  },
  {
   "cell_type": "code",
   "execution_count": 10,
   "id": "daf8a151-857f-42b8-af86-0c58ab17330f",
   "metadata": {},
   "outputs": [
    {
     "data": {
      "text/plain": [
       "('foo', [1, 2, 3], True)"
      ]
     },
     "execution_count": 10,
     "metadata": {},
     "output_type": "execute_result"
    }
   ],
   "source": [
    "tup"
   ]
  },
  {
   "cell_type": "code",
   "execution_count": 11,
   "id": "645ee0dd-831f-486c-9978-961e1d03c1e7",
   "metadata": {},
   "outputs": [
    {
     "data": {
      "text/plain": [
       "(4, None, 'foo', 6, 0, 'bar')"
      ]
     },
     "execution_count": 11,
     "metadata": {},
     "output_type": "execute_result"
    }
   ],
   "source": [
    "(4, None, 'foo') + (6, 0) + ('bar',) #concatenate tuples "
   ]
  },
  {
   "cell_type": "code",
   "execution_count": 12,
   "id": "9282ee9f-8635-4025-a4e8-a7a30b3caf62",
   "metadata": {},
   "outputs": [
    {
     "data": {
      "text/plain": [
       "('foo', 'bar', 'foo', 'bar', 'foo', 'bar', 'foo', 'bar')"
      ]
     },
     "execution_count": 12,
     "metadata": {},
     "output_type": "execute_result"
    }
   ],
   "source": [
    "('foo', 'bar') * 4"
   ]
  },
  {
   "cell_type": "code",
   "execution_count": 13,
   "id": "85c18200-5e6a-42db-afde-ffc93e3f5aca",
   "metadata": {},
   "outputs": [],
   "source": [
    " tup = (4, 5, 6)\n"
   ]
  },
  {
   "cell_type": "code",
   "execution_count": 14,
   "id": "25a47d92-23a0-4893-9017-cb8dd8950c7d",
   "metadata": {},
   "outputs": [],
   "source": [
    " a, b, c = tup"
   ]
  },
  {
   "cell_type": "code",
   "execution_count": 15,
   "id": "6dc96501-63e7-4042-9b54-f3998cc74fc8",
   "metadata": {},
   "outputs": [
    {
     "data": {
      "text/plain": [
       "4"
      ]
     },
     "execution_count": 15,
     "metadata": {},
     "output_type": "execute_result"
    }
   ],
   "source": [
    "a"
   ]
  },
  {
   "cell_type": "code",
   "execution_count": 16,
   "id": "0ce845ca-3df3-45ec-9426-c951d91155a2",
   "metadata": {},
   "outputs": [],
   "source": [
    "tup = 4, 5, (6, 7)\n"
   ]
  },
  {
   "cell_type": "code",
   "execution_count": 17,
   "id": "a7b8bd0b-6af5-44e0-a659-1427efe07ef6",
   "metadata": {},
   "outputs": [],
   "source": [
    " a, b, (c, d) = tup #sequence of nested tuples \n"
   ]
  },
  {
   "cell_type": "code",
   "execution_count": 18,
   "id": "3501070f-243c-4be5-a4f7-8b33e606247d",
   "metadata": {},
   "outputs": [
    {
     "data": {
      "text/plain": [
       "7"
      ]
     },
     "execution_count": 18,
     "metadata": {},
     "output_type": "execute_result"
    }
   ],
   "source": [
    "d"
   ]
  },
  {
   "cell_type": "code",
   "execution_count": 19,
   "id": "af4570a4-d19a-4a86-9fb5-527459a83b56",
   "metadata": {},
   "outputs": [],
   "source": [
    "a = (1, 2, 2, 2, 3, 4, 2)\n"
   ]
  },
  {
   "cell_type": "code",
   "execution_count": 20,
   "id": "0c9b9998-bdaa-46e4-b5df-6f729c407cf8",
   "metadata": {},
   "outputs": [
    {
     "data": {
      "text/plain": [
       "4"
      ]
     },
     "execution_count": 20,
     "metadata": {},
     "output_type": "execute_result"
    }
   ],
   "source": [
    "a.count(2) #numbers of occurrence of a value "
   ]
  },
  {
   "cell_type": "code",
   "execution_count": null,
   "id": "add9816f-35a0-4dcc-8317-09978753938b",
   "metadata": {},
   "outputs": [],
   "source": []
  }
 ],
 "metadata": {
  "kernelspec": {
   "display_name": "Python 3 (ipykernel)",
   "language": "python",
   "name": "python3"
  },
  "language_info": {
   "codemirror_mode": {
    "name": "ipython",
    "version": 3
   },
   "file_extension": ".py",
   "mimetype": "text/x-python",
   "name": "python",
   "nbconvert_exporter": "python",
   "pygments_lexer": "ipython3",
   "version": "3.9.7"
  }
 },
 "nbformat": 4,
 "nbformat_minor": 5
}

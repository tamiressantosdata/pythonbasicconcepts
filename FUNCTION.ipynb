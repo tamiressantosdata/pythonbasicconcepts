{
 "cells": [
  {
   "cell_type": "code",
   "execution_count": 5,
   "id": "b163186d-97ba-4bd5-915b-ac89d5b1942d",
   "metadata": {},
   "outputs": [],
   "source": [
    "def my_function(x, y, z=1.5):\n",
    "     if z > 1:\n",
    "        return z * (x + y)\n",
    "     else:\n",
    "        return z / (x + y)\n"
   ]
  },
  {
   "cell_type": "code",
   "execution_count": 6,
   "id": "b7279a3d-fbb2-4af1-b2ac-ceaf948dad75",
   "metadata": {},
   "outputs": [
    {
     "data": {
      "text/plain": [
       "15"
      ]
     },
     "execution_count": 6,
     "metadata": {},
     "output_type": "execute_result"
    }
   ],
   "source": [
    "my_function(3,2,z=3)"
   ]
  },
  {
   "cell_type": "code",
   "execution_count": 8,
   "id": "205bfcb2-0cc1-453b-a898-f63d27ef0977",
   "metadata": {},
   "outputs": [
    {
     "data": {
      "text/plain": [
       "0.06363636363636363"
      ]
     },
     "execution_count": 8,
     "metadata": {},
     "output_type": "execute_result"
    }
   ],
   "source": [
    "my_function(5, 6, z=0.7)\n"
   ]
  },
  {
   "cell_type": "code",
   "execution_count": 9,
   "id": "f41ea673-43b3-478f-a6d8-0f8b72b035e4",
   "metadata": {},
   "outputs": [
    {
     "data": {
      "text/plain": [
       "35.49"
      ]
     },
     "execution_count": 9,
     "metadata": {},
     "output_type": "execute_result"
    }
   ],
   "source": [
    "\n",
    "my_function(3.14, 7, 3.5)\n",
    "\n"
   ]
  },
  {
   "cell_type": "code",
   "execution_count": null,
   "id": "ea0d52a2-f584-4b56-9ad2-e847e9659194",
   "metadata": {},
   "outputs": [],
   "source": []
  }
 ],
 "metadata": {
  "kernelspec": {
   "display_name": "Python 3 (ipykernel)",
   "language": "python",
   "name": "python3"
  },
  "language_info": {
   "codemirror_mode": {
    "name": "ipython",
    "version": 3
   },
   "file_extension": ".py",
   "mimetype": "text/x-python",
   "name": "python",
   "nbconvert_exporter": "python",
   "pygments_lexer": "ipython3",
   "version": "3.9.7"
  }
 },
 "nbformat": 4,
 "nbformat_minor": 5
}

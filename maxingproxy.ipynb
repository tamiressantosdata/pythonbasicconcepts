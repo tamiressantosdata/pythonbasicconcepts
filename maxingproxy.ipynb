{
 "cells": [
  {
   "cell_type": "code",
   "execution_count": 1,
   "id": "901bdebe-9bf5-4ef4-8be9-2011ef53cf72",
   "metadata": {},
   "outputs": [],
   "source": [
    " from types import MappingProxyType"
   ]
  },
  {
   "cell_type": "code",
   "execution_count": 2,
   "id": "ad5ab2aa-6fc0-483f-a002-244aa8d13aa0",
   "metadata": {},
   "outputs": [],
   "source": [
    " d = {1: 'A'}"
   ]
  },
  {
   "cell_type": "code",
   "execution_count": 3,
   "id": "428dd8a7-8c62-418c-8382-284f3f015072",
   "metadata": {},
   "outputs": [],
   "source": [
    "d_proxy = MappingProxyType(d)\n"
   ]
  },
  {
   "cell_type": "code",
   "execution_count": 4,
   "id": "964b0f6f-6ff7-4d02-abb7-33c4e5b100ed",
   "metadata": {},
   "outputs": [
    {
     "data": {
      "text/plain": [
       "mappingproxy({1: 'A'})"
      ]
     },
     "execution_count": 4,
     "metadata": {},
     "output_type": "execute_result"
    }
   ],
   "source": [
    "d_proxy"
   ]
  },
  {
   "cell_type": "code",
   "execution_count": 5,
   "id": "5f22149f-175f-4feb-9fec-5d3b6274e56d",
   "metadata": {},
   "outputs": [
    {
     "data": {
      "text/plain": [
       "'A'"
      ]
     },
     "execution_count": 5,
     "metadata": {},
     "output_type": "execute_result"
    }
   ],
   "source": [
    "d_proxy[1] "
   ]
  },
  {
   "cell_type": "code",
   "execution_count": 6,
   "id": "11737a1e-f93e-4749-9f84-940d99507f26",
   "metadata": {},
   "outputs": [],
   "source": [
    " d[2] = 'B'\n"
   ]
  },
  {
   "cell_type": "code",
   "execution_count": 7,
   "id": "0a103081-593a-4b7a-9fcc-d417f24dcc07",
   "metadata": {},
   "outputs": [
    {
     "data": {
      "text/plain": [
       "mappingproxy({1: 'A', 2: 'B'})"
      ]
     },
     "execution_count": 7,
     "metadata": {},
     "output_type": "execute_result"
    }
   ],
   "source": [
    " d_proxy"
   ]
  },
  {
   "cell_type": "code",
   "execution_count": 8,
   "id": "9fa8f304-6e25-4550-a8dc-f2cf97f0ecff",
   "metadata": {},
   "outputs": [
    {
     "data": {
      "text/plain": [
       "'B'"
      ]
     },
     "execution_count": 8,
     "metadata": {},
     "output_type": "execute_result"
    }
   ],
   "source": [
    "d_proxy[2]"
   ]
  },
  {
   "cell_type": "code",
   "execution_count": null,
   "id": "1260f651-c8c1-4a82-801b-bf4cc3865284",
   "metadata": {},
   "outputs": [],
   "source": [
    "#MappingProxyType, which, given a mapping, returns a mappingproxy instance that is a read-only but\n",
    "#dynamic view of the original mapping. This means that updates to the original mapping\n",
    "#can be seen in the mappingproxy, but changes cannot be made through it."
   ]
  }
 ],
 "metadata": {
  "kernelspec": {
   "display_name": "Python 3 (ipykernel)",
   "language": "python",
   "name": "python3"
  },
  "language_info": {
   "codemirror_mode": {
    "name": "ipython",
    "version": 3
   },
   "file_extension": ".py",
   "mimetype": "text/x-python",
   "name": "python",
   "nbconvert_exporter": "python",
   "pygments_lexer": "ipython3",
   "version": "3.9.7"
  }
 },
 "nbformat": 4,
 "nbformat_minor": 5
}

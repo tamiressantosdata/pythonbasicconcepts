{
 "cells": [
  {
   "cell_type": "code",
   "execution_count": 6,
   "id": "0f6953ff-d06f-49e6-a29d-6cb46bd1fd2d",
   "metadata": {},
   "outputs": [],
   "source": [
    "class Person():\n",
    "    def __init__(self, name):\n",
    "        self.name = name\n"
   ]
  },
  {
   "cell_type": "code",
   "execution_count": 9,
   "id": "00c3dbc7-daf7-4b66-9799-044973ef5de9",
   "metadata": {},
   "outputs": [],
   "source": [
    "student=Person('TAMIRES')"
   ]
  },
  {
   "cell_type": "code",
   "execution_count": 10,
   "id": "8a1a7afb-6159-4d69-a803-14674159dbb6",
   "metadata": {},
   "outputs": [
    {
     "data": {
      "text/plain": [
       "<__main__.Person at 0x1edc4b37190>"
      ]
     },
     "execution_count": 10,
     "metadata": {},
     "output_type": "execute_result"
    }
   ],
   "source": [
    "student"
   ]
  },
  {
   "cell_type": "code",
   "execution_count": 11,
   "id": "1413299d-5e62-4816-b126-0b011869af02",
   "metadata": {},
   "outputs": [
    {
     "name": "stdout",
     "output_type": "stream",
     "text": [
      "The happy student:  TAMIRES\n"
     ]
    }
   ],
   "source": [
    "print('The happy student: ', student.name)"
   ]
  },
  {
   "cell_type": "code",
   "execution_count": null,
   "id": "3e2ab50b-b3f4-4862-be74-e4c88d1def55",
   "metadata": {},
   "outputs": [],
   "source": []
  }
 ],
 "metadata": {
  "kernelspec": {
   "display_name": "Python 3 (ipykernel)",
   "language": "python",
   "name": "python3"
  },
  "language_info": {
   "codemirror_mode": {
    "name": "ipython",
    "version": 3
   },
   "file_extension": ".py",
   "mimetype": "text/x-python",
   "name": "python",
   "nbconvert_exporter": "python",
   "pygments_lexer": "ipython3",
   "version": "3.9.7"
  }
 },
 "nbformat": 4,
 "nbformat_minor": 5
}

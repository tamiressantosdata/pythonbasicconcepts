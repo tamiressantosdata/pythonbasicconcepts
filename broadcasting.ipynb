{
 "cells": [
  {
   "cell_type": "code",
   "execution_count": 1,
   "id": "0a21d710-1c25-45a0-ad3c-a40ccf3d8de1",
   "metadata": {},
   "outputs": [
    {
     "data": {
      "text/plain": [
       "array([2., 4., 6.])"
      ]
     },
     "execution_count": 1,
     "metadata": {},
     "output_type": "execute_result"
    }
   ],
   "source": [
    "import numpy as np \n",
    "a = np.array([1.0, 2.0, 3.0])\n",
    "b = np.array([2.0, 2.0, 2.0])\n",
    "a*b"
   ]
  },
  {
   "cell_type": "code",
   "execution_count": 2,
   "id": "3ce0d793-a149-40ae-b5e3-185a622b0c9b",
   "metadata": {},
   "outputs": [
    {
     "data": {
      "text/plain": [
       "array([2., 4., 6.])"
      ]
     },
     "execution_count": 2,
     "metadata": {},
     "output_type": "execute_result"
    }
   ],
   "source": [
    "a = np.array([1.0, 2.0, 3.0])\n",
    "b=2\n",
    "a*b"
   ]
  },
  {
   "cell_type": "code",
   "execution_count": 4,
   "id": "38bad733-9429-4173-9f00-cb6eea86b7e4",
   "metadata": {},
   "outputs": [],
   "source": [
    "a =np.array([[ 0.0,  0.0,  0.0],\n",
    "           [10.0, 10.0, 10.0],\n",
    "           [20.0, 20.0, 20.0],\n",
    "           [30.0, 30.0, 30.0]])\n",
    "b = np.array([1.0, 2.0, 3.0])"
   ]
  },
  {
   "cell_type": "code",
   "execution_count": 5,
   "id": "3e2e75de-fcc8-40be-a096-8f6e34d804bb",
   "metadata": {},
   "outputs": [
    {
     "data": {
      "text/plain": [
       "array([[ 1.,  2.,  3.],\n",
       "       [11., 12., 13.],\n",
       "       [21., 22., 23.],\n",
       "       [31., 32., 33.]])"
      ]
     },
     "execution_count": 5,
     "metadata": {},
     "output_type": "execute_result"
    }
   ],
   "source": [
    "a+b"
   ]
  },
  {
   "cell_type": "code",
   "execution_count": 6,
   "id": "1c39175b-df91-4a62-8435-3f4788c92c64",
   "metadata": {},
   "outputs": [],
   "source": [
    "a = np.array([0.0, 10.0, 20.0, 30.0])"
   ]
  },
  {
   "cell_type": "code",
   "execution_count": 7,
   "id": "2a6295e3-7bf9-4949-b466-a19b457b627a",
   "metadata": {},
   "outputs": [],
   "source": [
    "b = np.array([1.0, 2.0, 3.0])"
   ]
  },
  {
   "cell_type": "code",
   "execution_count": 12,
   "id": "8c6505c5-85c8-404c-aae4-71a872bb4f60",
   "metadata": {},
   "outputs": [
    {
     "data": {
      "text/plain": [
       "array([[ 1.,  2.,  3.],\n",
       "       [11., 12., 13.],\n",
       "       [21., 22., 23.],\n",
       "       [31., 32., 33.]])"
      ]
     },
     "execution_count": 12,
     "metadata": {},
     "output_type": "execute_result"
    }
   ],
   "source": [
    "a[:, np.newaxis] + b"
   ]
  },
  {
   "cell_type": "code",
   "execution_count": 14,
   "id": "32eef47c-32a0-4f8a-861c-c0142d83877d",
   "metadata": {},
   "outputs": [],
   "source": [
    "b = np.array([1.0, 2.0, 3.0, 4.0])"
   ]
  },
  {
   "cell_type": "code",
   "execution_count": 15,
   "id": "2e598232-54d8-4bee-a7e0-36390763e2fe",
   "metadata": {},
   "outputs": [
    {
     "data": {
      "text/plain": [
       "array([ 1., 12., 23., 34.])"
      ]
     },
     "execution_count": 15,
     "metadata": {},
     "output_type": "execute_result"
    }
   ],
   "source": [
    "a + b"
   ]
  },
  {
   "cell_type": "code",
   "execution_count": 16,
   "id": "07dbc796-575b-452a-a031-e79e161e221b",
   "metadata": {},
   "outputs": [],
   "source": [
    "from numpy import array, argmin, sqrt, sum\n"
   ]
  },
  {
   "cell_type": "code",
   "execution_count": 18,
   "id": "521c6215-e0fe-455e-a05f-2a3bb39d7d8a",
   "metadata": {},
   "outputs": [],
   "source": [
    "observation = np.array([111.0, 188.0])"
   ]
  },
  {
   "cell_type": "code",
   "execution_count": 19,
   "id": "1a9d4778-c0a9-4569-8de0-74629ebcc3e9",
   "metadata": {},
   "outputs": [],
   "source": [
    "codes = array([[102.0, 203.0],\n",
    "               [132.0, 193.0],\n",
    "               [45.0, 155.0],\n",
    "               [57.0, 173.0]])"
   ]
  },
  {
   "cell_type": "code",
   "execution_count": 20,
   "id": "bc4caab6-4a37-42ce-8668-0e9dc35b73e6",
   "metadata": {},
   "outputs": [],
   "source": [
    "diff = codes - observation"
   ]
  },
  {
   "cell_type": "code",
   "execution_count": 21,
   "id": "a9398492-ee1d-48a6-89fd-f8610388ae82",
   "metadata": {},
   "outputs": [
    {
     "data": {
      "text/plain": [
       "array([[ -9.,  15.],\n",
       "       [ 21.,   5.],\n",
       "       [-66., -33.],\n",
       "       [-54., -15.]])"
      ]
     },
     "execution_count": 21,
     "metadata": {},
     "output_type": "execute_result"
    }
   ],
   "source": [
    "diff"
   ]
  },
  {
   "cell_type": "code",
   "execution_count": 22,
   "id": "5feba2ef-6195-4ebf-9707-65d888a8853c",
   "metadata": {},
   "outputs": [],
   "source": [
    "dist = sqrt(sum(diff**2,axis=-1))"
   ]
  },
  {
   "cell_type": "code",
   "execution_count": 23,
   "id": "e6cc1923-2e60-4145-b3fe-0ffc2ee567fb",
   "metadata": {},
   "outputs": [
    {
     "data": {
      "text/plain": [
       "array([17.49285568, 21.58703314, 73.79024326, 56.04462508])"
      ]
     },
     "execution_count": 23,
     "metadata": {},
     "output_type": "execute_result"
    }
   ],
   "source": [
    "dist"
   ]
  },
  {
   "cell_type": "code",
   "execution_count": 24,
   "id": "b4aa1405-4754-4a30-8e22-20f3973d50c7",
   "metadata": {},
   "outputs": [
    {
     "data": {
      "text/plain": [
       "0"
      ]
     },
     "execution_count": 24,
     "metadata": {},
     "output_type": "execute_result"
    }
   ],
   "source": [
    "argmin(dist)"
   ]
  },
  {
   "cell_type": "code",
   "execution_count": null,
   "id": "aa17882b-7983-4ce2-928a-92d9a85d4530",
   "metadata": {},
   "outputs": [],
   "source": []
  }
 ],
 "metadata": {
  "kernelspec": {
   "display_name": "Python 3 (ipykernel)",
   "language": "python",
   "name": "python3"
  },
  "language_info": {
   "codemirror_mode": {
    "name": "ipython",
    "version": 3
   },
   "file_extension": ".py",
   "mimetype": "text/x-python",
   "name": "python",
   "nbconvert_exporter": "python",
   "pygments_lexer": "ipython3",
   "version": "3.9.7"
  }
 },
 "nbformat": 4,
 "nbformat_minor": 5
}

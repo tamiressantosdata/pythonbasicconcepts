{
 "cells": [
  {
   "cell_type": "code",
   "execution_count": 2,
   "id": "8476fe54-75ec-45d3-9d55-a9c76e44a33b",
   "metadata": {},
   "outputs": [],
   "source": [
    "from collections import namedtuple"
   ]
  },
  {
   "cell_type": "code",
   "execution_count": 3,
   "id": "e25a4a5d-1460-4ff4-a6ca-d52ffd54a468",
   "metadata": {},
   "outputs": [],
   "source": [
    "Duck = namedtuple('Duck', 'bill tail')"
   ]
  },
  {
   "cell_type": "code",
   "execution_count": 4,
   "id": "ad3d4de3-63d3-4652-a6cc-242eb991e579",
   "metadata": {},
   "outputs": [],
   "source": [
    "duck = Duck('wide orange', 'long')"
   ]
  },
  {
   "cell_type": "code",
   "execution_count": 5,
   "id": "c7259099-72cf-450b-bb5d-741fb393dc73",
   "metadata": {},
   "outputs": [
    {
     "data": {
      "text/plain": [
       "Duck(bill='wide orange', tail='long')"
      ]
     },
     "execution_count": 5,
     "metadata": {},
     "output_type": "execute_result"
    }
   ],
   "source": [
    "duck"
   ]
  },
  {
   "cell_type": "code",
   "execution_count": 6,
   "id": "d62a4f45-b18b-4812-aab1-73d71a01ece0",
   "metadata": {},
   "outputs": [
    {
     "data": {
      "text/plain": [
       "Duck(bill='wide orange', tail='long')"
      ]
     },
     "execution_count": 6,
     "metadata": {},
     "output_type": "execute_result"
    }
   ],
   "source": [
    "Duck(bill='wide orange', tail='long')"
   ]
  },
  {
   "cell_type": "code",
   "execution_count": 7,
   "id": "0808dfd7-552f-4d0f-a86e-03a67caab146",
   "metadata": {},
   "outputs": [
    {
     "data": {
      "text/plain": [
       "'wide orange'"
      ]
     },
     "execution_count": 7,
     "metadata": {},
     "output_type": "execute_result"
    }
   ],
   "source": [
    "duck.bill"
   ]
  },
  {
   "cell_type": "code",
   "execution_count": 8,
   "id": "628d222f-a73b-452c-a554-318397f15966",
   "metadata": {},
   "outputs": [
    {
     "data": {
      "text/plain": [
       "'long'"
      ]
     },
     "execution_count": 8,
     "metadata": {},
     "output_type": "execute_result"
    }
   ],
   "source": [
    "duck.tail"
   ]
  },
  {
   "cell_type": "code",
   "execution_count": null,
   "id": "a1025094-936d-42c2-8798-451d95624378",
   "metadata": {},
   "outputs": [],
   "source": []
  }
 ],
 "metadata": {
  "kernelspec": {
   "display_name": "Python 3 (ipykernel)",
   "language": "python",
   "name": "python3"
  },
  "language_info": {
   "codemirror_mode": {
    "name": "ipython",
    "version": 3
   },
   "file_extension": ".py",
   "mimetype": "text/x-python",
   "name": "python",
   "nbconvert_exporter": "python",
   "pygments_lexer": "ipython3",
   "version": "3.9.7"
  }
 },
 "nbformat": 4,
 "nbformat_minor": 5
}

{
 "cells": [
  {
   "cell_type": "code",
   "execution_count": 1,
   "id": "8769496f-022f-400c-8255-4d852b2cbbff",
   "metadata": {},
   "outputs": [],
   "source": [
    "s = 'python' "
   ]
  },
  {
   "cell_type": "code",
   "execution_count": 4,
   "id": "286f9bd1-e3de-4f0c-9da8-9b4313cc5429",
   "metadata": {},
   "outputs": [
    {
     "data": {
      "text/plain": [
       "['p', 'y', 't', 'h', 'o', 'n']"
      ]
     },
     "execution_count": 4,
     "metadata": {},
     "output_type": "execute_result"
    }
   ],
   "source": [
    "list(s) "
   ]
  },
  {
   "cell_type": "code",
   "execution_count": 5,
   "id": "4135cc41-7312-4da6-9e74-487d1a13fb52",
   "metadata": {},
   "outputs": [
    {
     "data": {
      "text/plain": [
       "'pyt'"
      ]
     },
     "execution_count": 5,
     "metadata": {},
     "output_type": "execute_result"
    }
   ],
   "source": [
    " s[:3] "
   ]
  },
  {
   "cell_type": "code",
   "execution_count": 22,
   "id": "8f72b83d-727f-4147-955d-ff4373cf4c13",
   "metadata": {},
   "outputs": [],
   "source": [
    "a= 'this is the first half ' "
   ]
  },
  {
   "cell_type": "code",
   "execution_count": 23,
   "id": "f4e73715-be25-4937-a45e-8b8f47e95e08",
   "metadata": {},
   "outputs": [],
   "source": [
    "b = 'and this is the second half'"
   ]
  },
  {
   "cell_type": "code",
   "execution_count": 24,
   "id": "2f2122dd-cb7a-4914-bb94-3c00cb81c9af",
   "metadata": {},
   "outputs": [
    {
     "data": {
      "text/plain": [
       "'this is the first half and this is the second half'"
      ]
     },
     "execution_count": 24,
     "metadata": {},
     "output_type": "execute_result"
    }
   ],
   "source": [
    "a+b"
   ]
  },
  {
   "cell_type": "code",
   "execution_count": 25,
   "id": "d22c2f47-2b6e-48d1-80da-52d3333ebf2c",
   "metadata": {},
   "outputs": [],
   "source": [
    "template='{0:.2f} {1:s} are worth US${2:d}'"
   ]
  },
  {
   "cell_type": "code",
   "execution_count": 26,
   "id": "176db6fe-e69d-432b-8fe4-138220d0ee44",
   "metadata": {},
   "outputs": [
    {
     "data": {
      "text/plain": [
       "'4.56 Argentine Pesos are worth US$1'"
      ]
     },
     "execution_count": 26,
     "metadata": {},
     "output_type": "execute_result"
    }
   ],
   "source": [
    "template.format(4.5560, 'Argentine Pesos',1)"
   ]
  },
  {
   "cell_type": "code",
   "execution_count": 27,
   "id": "fdae03e9-cac5-48f7-b67e-739241e09d51",
   "metadata": {},
   "outputs": [],
   "source": [
    "a=None"
   ]
  },
  {
   "cell_type": "code",
   "execution_count": 28,
   "id": "de8ae4b4-e61e-4f0c-9120-4f383e464d44",
   "metadata": {},
   "outputs": [],
   "source": [
    "a"
   ]
  },
  {
   "cell_type": "code",
   "execution_count": 29,
   "id": "85dd1c72-0ae9-4e4d-9b7a-3006633adf61",
   "metadata": {},
   "outputs": [],
   "source": [
    "from datetime import datetime, date, time"
   ]
  },
  {
   "cell_type": "code",
   "execution_count": 30,
   "id": "e33bd653-3cfe-4818-a011-44f9ca62dc58",
   "metadata": {},
   "outputs": [],
   "source": [
    "dt = datetime(2022, 10, 29, 20, 30, 21)"
   ]
  },
  {
   "cell_type": "code",
   "execution_count": 31,
   "id": "918f9c8e-2879-4050-9012-3320ca00822e",
   "metadata": {},
   "outputs": [
    {
     "data": {
      "text/plain": [
       "29"
      ]
     },
     "execution_count": 31,
     "metadata": {},
     "output_type": "execute_result"
    }
   ],
   "source": [
    "dt.day"
   ]
  },
  {
   "cell_type": "code",
   "execution_count": 32,
   "id": "0ffa7940-eedb-4424-a478-d1f0fd918a53",
   "metadata": {},
   "outputs": [
    {
     "data": {
      "text/plain": [
       "2022"
      ]
     },
     "execution_count": 32,
     "metadata": {},
     "output_type": "execute_result"
    }
   ],
   "source": [
    "dt.year"
   ]
  },
  {
   "cell_type": "code",
   "execution_count": 33,
   "id": "164f37a6-5173-4ee5-a938-867c5648e9e7",
   "metadata": {},
   "outputs": [
    {
     "data": {
      "text/plain": [
       "30"
      ]
     },
     "execution_count": 33,
     "metadata": {},
     "output_type": "execute_result"
    }
   ],
   "source": [
    "dt.minute"
   ]
  },
  {
   "cell_type": "code",
   "execution_count": 37,
   "id": "a4031396-18f0-471a-851c-19f08ccf3b56",
   "metadata": {},
   "outputs": [
    {
     "data": {
      "text/plain": [
       "<function datetime.date>"
      ]
     },
     "execution_count": 37,
     "metadata": {},
     "output_type": "execute_result"
    }
   ],
   "source": [
    "dt.date"
   ]
  },
  {
   "cell_type": "code",
   "execution_count": 44,
   "id": "399b8b4b-5dc8-4d0e-bd27-ec2f1db6f4d9",
   "metadata": {},
   "outputs": [
    {
     "data": {
      "text/plain": [
       "datetime.date(2022, 10, 29)"
      ]
     },
     "execution_count": 44,
     "metadata": {},
     "output_type": "execute_result"
    }
   ],
   "source": [
    "dt.date() "
   ]
  },
  {
   "cell_type": "code",
   "execution_count": 46,
   "id": "1bb3d6b2-9b3e-4483-9323-3a43f7be23ca",
   "metadata": {},
   "outputs": [
    {
     "data": {
      "text/plain": [
       "datetime.time(20, 30, 21)"
      ]
     },
     "execution_count": 46,
     "metadata": {},
     "output_type": "execute_result"
    }
   ],
   "source": [
    "dt.time()"
   ]
  },
  {
   "cell_type": "code",
   "execution_count": 47,
   "id": "e4cd38d0-9334-414b-9b4e-9a8d0c7d2045",
   "metadata": {},
   "outputs": [
    {
     "data": {
      "text/plain": [
       "' 30/29/2022 20: 30'"
      ]
     },
     "execution_count": 47,
     "metadata": {},
     "output_type": "execute_result"
    }
   ],
   "source": [
    "dt.strftime(' %M/%d/%Y %H: %M')"
   ]
  },
  {
   "cell_type": "code",
   "execution_count": 49,
   "id": "35bd9b00-4b88-43ff-9203-c9f634a85de6",
   "metadata": {},
   "outputs": [
    {
     "data": {
      "text/plain": [
       "datetime.datetime(2022, 10, 29, 20, 0)"
      ]
     },
     "execution_count": 49,
     "metadata": {},
     "output_type": "execute_result"
    }
   ],
   "source": [
    " dt.replace(minute=0, second=0) "
   ]
  },
  {
   "cell_type": "code",
   "execution_count": null,
   "id": "66eb136d-72a5-4756-8eee-6ea6dd0ecc48",
   "metadata": {},
   "outputs": [],
   "source": []
  }
 ],
 "metadata": {
  "kernelspec": {
   "display_name": "Python 3 (ipykernel)",
   "language": "python",
   "name": "python3"
  },
  "language_info": {
   "codemirror_mode": {
    "name": "ipython",
    "version": 3
   },
   "file_extension": ".py",
   "mimetype": "text/x-python",
   "name": "python",
   "nbconvert_exporter": "python",
   "pygments_lexer": "ipython3",
   "version": "3.9.7"
  }
 },
 "nbformat": 4,
 "nbformat_minor": 5
}

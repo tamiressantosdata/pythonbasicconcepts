{
 "cells": [
  {
   "cell_type": "code",
   "execution_count": 19,
   "id": "a59f01ae-7521-498a-a6ba-f6f9d531af7a",
   "metadata": {},
   "outputs": [],
   "source": [
    "import numpy as np\n",
    "import pandas as pd\n",
    "val = 'a,b, guido'\n"
   ]
  },
  {
   "cell_type": "code",
   "execution_count": 20,
   "id": "4f819deb-1189-4a80-85d4-f7520c3013b6",
   "metadata": {},
   "outputs": [
    {
     "data": {
      "text/plain": [
       "['a', 'b', ' guido']"
      ]
     },
     "execution_count": 20,
     "metadata": {},
     "output_type": "execute_result"
    }
   ],
   "source": [
    "val.split(',') #string manipulation"
   ]
  },
  {
   "cell_type": "code",
   "execution_count": 21,
   "id": "98dc9fdc-ba57-4c21-bedb-cf6e89c47242",
   "metadata": {},
   "outputs": [],
   "source": [
    "pieces = [x.strip() for x in val.split(',')]\n"
   ]
  },
  {
   "cell_type": "code",
   "execution_count": 22,
   "id": "46483546-1c15-46cf-8587-c6378787a112",
   "metadata": {},
   "outputs": [
    {
     "data": {
      "text/plain": [
       "['a', 'b', 'guido']"
      ]
     },
     "execution_count": 22,
     "metadata": {},
     "output_type": "execute_result"
    }
   ],
   "source": [
    "pieces"
   ]
  },
  {
   "cell_type": "code",
   "execution_count": 23,
   "id": "cf437e77-aeb7-4fc6-99c4-c3ee221b6129",
   "metadata": {},
   "outputs": [],
   "source": [
    "first, second, third = pieces\n"
   ]
  },
  {
   "cell_type": "code",
   "execution_count": 24,
   "id": "3f6f02d8-1afa-4167-9b6b-6eb239c3e2c1",
   "metadata": {},
   "outputs": [
    {
     "data": {
      "text/plain": [
       "'abguido'"
      ]
     },
     "execution_count": 24,
     "metadata": {},
     "output_type": "execute_result"
    }
   ],
   "source": [
    " first   + second + third"
   ]
  },
  {
   "cell_type": "code",
   "execution_count": 25,
   "id": "e2f3f693-f557-4d16-a64e-49cecacffa02",
   "metadata": {},
   "outputs": [
    {
     "data": {
      "text/plain": [
       "'a::b:: guido'"
      ]
     },
     "execution_count": 25,
     "metadata": {},
     "output_type": "execute_result"
    }
   ],
   "source": [
    " val.replace(',', '::')"
   ]
  },
  {
   "cell_type": "code",
   "execution_count": 26,
   "id": "8840bedd-bea8-490f-b6e0-c76f2fc64e08",
   "metadata": {},
   "outputs": [
    {
     "data": {
      "text/plain": [
       "'ab guido'"
      ]
     },
     "execution_count": 26,
     "metadata": {},
     "output_type": "execute_result"
    }
   ],
   "source": [
    "val.replace(',', '')\n"
   ]
  },
  {
   "cell_type": "code",
   "execution_count": 27,
   "id": "17c1c082-0873-4476-9f95-53ce617f6706",
   "metadata": {},
   "outputs": [],
   "source": [
    "data = {'Dave': 'dave@google.com', 'Steve': 'steve@gmail.com','Rob': 'rob@gmail.com', 'Wes': np.nan}"
   ]
  },
  {
   "cell_type": "code",
   "execution_count": 28,
   "id": "f120b706-2bba-4f49-96ad-360bbded03c2",
   "metadata": {},
   "outputs": [
    {
     "data": {
      "text/plain": [
       "{'Dave': 'dave@google.com',\n",
       " 'Steve': 'steve@gmail.com',\n",
       " 'Rob': 'rob@gmail.com',\n",
       " 'Wes': nan}"
      ]
     },
     "execution_count": 28,
     "metadata": {},
     "output_type": "execute_result"
    }
   ],
   "source": [
    "data"
   ]
  },
  {
   "cell_type": "code",
   "execution_count": 29,
   "id": "ec09a07a-d900-4ddc-8a76-4dfa56ca9c17",
   "metadata": {},
   "outputs": [],
   "source": [
    "data = pd.Series(data)\n"
   ]
  },
  {
   "cell_type": "code",
   "execution_count": 30,
   "id": "60a78b89-8f3f-449a-ac21-dc093e40ce3e",
   "metadata": {},
   "outputs": [
    {
     "data": {
      "text/plain": [
       "Dave     dave@google.com\n",
       "Steve    steve@gmail.com\n",
       "Rob        rob@gmail.com\n",
       "Wes                  NaN\n",
       "dtype: object"
      ]
     },
     "execution_count": 30,
     "metadata": {},
     "output_type": "execute_result"
    }
   ],
   "source": [
    "data"
   ]
  },
  {
   "cell_type": "code",
   "execution_count": 31,
   "id": "99dc0292-ebf0-43b8-92a4-5e8e234b2729",
   "metadata": {},
   "outputs": [
    {
     "data": {
      "text/plain": [
       "Dave     False\n",
       "Steve    False\n",
       "Rob      False\n",
       "Wes       True\n",
       "dtype: bool"
      ]
     },
     "execution_count": 31,
     "metadata": {},
     "output_type": "execute_result"
    }
   ],
   "source": [
    "data.isnull()"
   ]
  },
  {
   "cell_type": "code",
   "execution_count": 32,
   "id": "d2b1f61c-2fa9-4198-a567-ea7d4e11f718",
   "metadata": {},
   "outputs": [
    {
     "data": {
      "text/plain": [
       "Dave     False\n",
       "Steve     True\n",
       "Rob       True\n",
       "Wes        NaN\n",
       "dtype: object"
      ]
     },
     "execution_count": 32,
     "metadata": {},
     "output_type": "execute_result"
    }
   ],
   "source": [
    "data.str.contains('gmail')"
   ]
  },
  {
   "cell_type": "code",
   "execution_count": 33,
   "id": "f3442a13-7d87-4f4c-8894-cab155c09550",
   "metadata": {},
   "outputs": [
    {
     "data": {
      "text/plain": [
       "Dave     dave@\n",
       "Steve    steve\n",
       "Rob      rob@g\n",
       "Wes        NaN\n",
       "dtype: object"
      ]
     },
     "execution_count": 33,
     "metadata": {},
     "output_type": "execute_result"
    }
   ],
   "source": [
    " data.str[:5] #slice string"
   ]
  },
  {
   "cell_type": "code",
   "execution_count": null,
   "id": "214167dd-2b50-4133-83a0-9036d6ba98d2",
   "metadata": {},
   "outputs": [],
   "source": []
  }
 ],
 "metadata": {
  "kernelspec": {
   "display_name": "Python 3 (ipykernel)",
   "language": "python",
   "name": "python3"
  },
  "language_info": {
   "codemirror_mode": {
    "name": "ipython",
    "version": 3
   },
   "file_extension": ".py",
   "mimetype": "text/x-python",
   "name": "python",
   "nbconvert_exporter": "python",
   "pygments_lexer": "ipython3",
   "version": "3.9.7"
  }
 },
 "nbformat": 4,
 "nbformat_minor": 5
}

{
 "cells": [
  {
   "cell_type": "code",
   "execution_count": 1,
   "id": "c9c049c3-0ebb-4ec5-92e4-e7db9d3b7fd0",
   "metadata": {},
   "outputs": [],
   "source": [
    "import numpy as np "
   ]
  },
  {
   "cell_type": "code",
   "execution_count": 2,
   "id": "efe89b23-f779-44fb-8144-925670f5c75f",
   "metadata": {},
   "outputs": [],
   "source": [
    "x = np.array([[1., 2., 3.], [4., 5., 6.]])"
   ]
  },
  {
   "cell_type": "code",
   "execution_count": 3,
   "id": "50b35782-58c8-440b-bcdc-a17353bd777e",
   "metadata": {},
   "outputs": [
    {
     "data": {
      "text/plain": [
       "array([[1., 2., 3.],\n",
       "       [4., 5., 6.]])"
      ]
     },
     "execution_count": 3,
     "metadata": {},
     "output_type": "execute_result"
    }
   ],
   "source": [
    "x"
   ]
  },
  {
   "cell_type": "code",
   "execution_count": 4,
   "id": "191a5084-ce28-462e-b943-e514a32031c4",
   "metadata": {},
   "outputs": [],
   "source": [
    "y = np.array([[6., 23.], [-1, 7], [8, 9]])\n"
   ]
  },
  {
   "cell_type": "code",
   "execution_count": 5,
   "id": "1ba86ca3-b2fd-481b-81c7-a911da63bc25",
   "metadata": {},
   "outputs": [
    {
     "data": {
      "text/plain": [
       "array([[ 6., 23.],\n",
       "       [-1.,  7.],\n",
       "       [ 8.,  9.]])"
      ]
     },
     "execution_count": 5,
     "metadata": {},
     "output_type": "execute_result"
    }
   ],
   "source": [
    "y"
   ]
  },
  {
   "cell_type": "code",
   "execution_count": 6,
   "id": "266aa26c-368c-4d64-9969-2e7108f062e3",
   "metadata": {},
   "outputs": [
    {
     "data": {
      "text/plain": [
       "array([[ 28.,  64.],\n",
       "       [ 67., 181.]])"
      ]
     },
     "execution_count": 6,
     "metadata": {},
     "output_type": "execute_result"
    }
   ],
   "source": [
    "x.dot(y)"
   ]
  },
  {
   "cell_type": "code",
   "execution_count": 7,
   "id": "48b252d1-7b7a-4e8d-832b-5b270f965e11",
   "metadata": {},
   "outputs": [
    {
     "data": {
      "text/plain": [
       "array([[ 28.,  64.],\n",
       "       [ 67., 181.]])"
      ]
     },
     "execution_count": 7,
     "metadata": {},
     "output_type": "execute_result"
    }
   ],
   "source": [
    "np.dot(x, y) #equivalent"
   ]
  },
  {
   "cell_type": "code",
   "execution_count": 8,
   "id": "3148f46a-57a6-4e75-b275-0a92582d5b2b",
   "metadata": {},
   "outputs": [
    {
     "data": {
      "text/plain": [
       "array([1., 1., 1.])"
      ]
     },
     "execution_count": 8,
     "metadata": {},
     "output_type": "execute_result"
    }
   ],
   "source": [
    " np.ones(3)"
   ]
  },
  {
   "cell_type": "code",
   "execution_count": 9,
   "id": "8c812ff9-c356-4fcb-b57b-715a9e1e29a4",
   "metadata": {},
   "outputs": [
    {
     "data": {
      "text/plain": [
       "array([ 6., 15.])"
      ]
     },
     "execution_count": 9,
     "metadata": {},
     "output_type": "execute_result"
    }
   ],
   "source": [
    "np.dot(x, np.ones(3))"
   ]
  },
  {
   "cell_type": "code",
   "execution_count": 10,
   "id": "39672c61-789d-47fe-8766-96e5a9b07f75",
   "metadata": {},
   "outputs": [],
   "source": [
    "from numpy.linalg import inv, qr\n"
   ]
  },
  {
   "cell_type": "code",
   "execution_count": 11,
   "id": "499595d8-f4f5-451e-a222-c720e80b7aa4",
   "metadata": {},
   "outputs": [],
   "source": [
    "X = np.random.randn(5, 5)"
   ]
  },
  {
   "cell_type": "code",
   "execution_count": 12,
   "id": "8ae3e57a-a1fb-47f4-bd75-47575fd9d6f0",
   "metadata": {},
   "outputs": [
    {
     "data": {
      "text/plain": [
       "array([[-1.30429248, -2.29257421,  0.39300443,  0.07511584,  0.55439607],\n",
       "       [-0.09577308,  0.45616627,  0.95648296,  0.48633685,  1.26948293],\n",
       "       [ 0.23883853,  0.72453384, -0.1911693 ,  0.45193636, -1.30292066],\n",
       "       [ 1.9133871 , -0.43715595, -0.67414184,  0.3023698 , -1.76084388],\n",
       "       [ 1.95105443,  0.63562824, -1.5569594 , -0.38489609, -0.77765738]])"
      ]
     },
     "execution_count": 12,
     "metadata": {},
     "output_type": "execute_result"
    }
   ],
   "source": [
    "X"
   ]
  },
  {
   "cell_type": "code",
   "execution_count": 13,
   "id": "c3b72d4e-2ec4-4349-9f68-3323ee5823ac",
   "metadata": {},
   "outputs": [],
   "source": [
    "mat = X.T.dot(X)\n"
   ]
  },
  {
   "cell_type": "code",
   "execution_count": 14,
   "id": "042310d8-801b-4f15-9e14-172edc802f5f",
   "metadata": {},
   "outputs": [
    {
     "data": {
      "text/plain": [
       "array([[ 9.23505877e+00,  3.52324217e+00, -4.97746347e+00,\n",
       "        -2.09013943e-01, -6.04229241e+00],\n",
       "       [ 3.52324217e+00,  6.58406206e+00, -1.29812743e+00,\n",
       "         2.51432201e-04, -1.36044656e+00],\n",
       "       [-4.97746347e+00, -1.29812743e+00,  3.98444762e+00,\n",
       "         8.03724864e-01,  4.07903684e+00],\n",
       "       [-2.09013943e-01,  2.51432201e-04,  8.03724864e-01,\n",
       "         6.85984894e-01, -1.62905676e-01],\n",
       "       [-6.04229241e+00, -1.36044656e+00,  4.07903684e+00,\n",
       "        -1.62905676e-01,  7.32186632e+00]])"
      ]
     },
     "execution_count": 14,
     "metadata": {},
     "output_type": "execute_result"
    }
   ],
   "source": [
    "mat"
   ]
  },
  {
   "cell_type": "code",
   "execution_count": 15,
   "id": "00ab2608-0188-4cdf-be23-176a8927182b",
   "metadata": {},
   "outputs": [
    {
     "data": {
      "text/plain": [
       "array([[ 7.77924455e-01, -1.73418467e-01,  1.51328772e+00,\n",
       "        -1.59978983e+00, -2.68900116e-01],\n",
       "       [-1.73418467e-01,  2.09164394e-01, -1.79041729e-01,\n",
       "         1.56614105e-01, -1.01845222e-03],\n",
       "       [ 1.51328772e+00, -1.79041729e-01,  4.94446137e+00,\n",
       "        -5.72770393e+00, -1.66645563e+00],\n",
       "       [-1.59978983e+00,  1.56614105e-01, -5.72770393e+00,\n",
       "         8.17540259e+00,  2.08170995e+00],\n",
       "       [-2.68900116e-01, -1.01845222e-03, -1.66645563e+00,\n",
       "         2.08170995e+00,  8.89185532e-01]])"
      ]
     },
     "execution_count": 15,
     "metadata": {},
     "output_type": "execute_result"
    }
   ],
   "source": [
    "inv(mat)"
   ]
  },
  {
   "cell_type": "code",
   "execution_count": 16,
   "id": "bdc4c4bf-380c-43b2-bd5a-731c64248871",
   "metadata": {},
   "outputs": [],
   "source": [
    "#The expression X.T.dot(X) computes the dot product of X with its transpose X.T."
   ]
  },
  {
   "cell_type": "code",
   "execution_count": null,
   "id": "839ee813-ed00-4fcd-84d1-11a1bc07e021",
   "metadata": {},
   "outputs": [],
   "source": []
  }
 ],
 "metadata": {
  "kernelspec": {
   "display_name": "Python 3 (ipykernel)",
   "language": "python",
   "name": "python3"
  },
  "language_info": {
   "codemirror_mode": {
    "name": "ipython",
    "version": 3
   },
   "file_extension": ".py",
   "mimetype": "text/x-python",
   "name": "python",
   "nbconvert_exporter": "python",
   "pygments_lexer": "ipython3",
   "version": "3.9.7"
  }
 },
 "nbformat": 4,
 "nbformat_minor": 5
}

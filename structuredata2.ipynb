{
 "cells": [
  {
   "cell_type": "code",
   "execution_count": 2,
   "id": "4fa0c91a-4bb6-4bed-957f-8df0d676a5fd",
   "metadata": {},
   "outputs": [],
   "source": [
    "import numpy as np\n",
    "x = np.array([('Rex', 9, 81.0), ('Fido', 3, 27.0)],\n",
    "             dtype=[('name', 'U10'), ('age', 'i4'), ('weight', 'f4')])"
   ]
  },
  {
   "cell_type": "code",
   "execution_count": 3,
   "id": "66e488a1-8171-475b-a5e5-bd6c9e162887",
   "metadata": {},
   "outputs": [
    {
     "data": {
      "text/plain": [
       "array([('Rex', 9, 81.), ('Fido', 3, 27.)],\n",
       "      dtype=[('name', '<U10'), ('age', '<i4'), ('weight', '<f4')])"
      ]
     },
     "execution_count": 3,
     "metadata": {},
     "output_type": "execute_result"
    }
   ],
   "source": [
    "x"
   ]
  },
  {
   "cell_type": "code",
   "execution_count": 4,
   "id": "af924394-8409-49cb-9803-de3b3e755402",
   "metadata": {},
   "outputs": [
    {
     "data": {
      "text/plain": [
       "('Fido', 3, 27.)"
      ]
     },
     "execution_count": 4,
     "metadata": {},
     "output_type": "execute_result"
    }
   ],
   "source": [
    "x[1]"
   ]
  },
  {
   "cell_type": "code",
   "execution_count": 6,
   "id": "3bdba794-2724-4a5c-932c-4256a903d6f6",
   "metadata": {},
   "outputs": [
    {
     "data": {
      "text/plain": [
       "('Rex', 9, 81.)"
      ]
     },
     "execution_count": 6,
     "metadata": {},
     "output_type": "execute_result"
    }
   ],
   "source": [
    "x[0]"
   ]
  },
  {
   "cell_type": "code",
   "execution_count": 7,
   "id": "12a7bfb5-2ae9-4210-beef-77f976f9a792",
   "metadata": {},
   "outputs": [],
   "source": [
    "x['age'] = 5"
   ]
  },
  {
   "cell_type": "code",
   "execution_count": 8,
   "id": "3493e6e6-927d-40c4-9ad3-eb6c195fb2a7",
   "metadata": {},
   "outputs": [
    {
     "data": {
      "text/plain": [
       "array([('Rex', 5, 81.), ('Fido', 5, 27.)],\n",
       "      dtype=[('name', '<U10'), ('age', '<i4'), ('weight', '<f4')])"
      ]
     },
     "execution_count": 8,
     "metadata": {},
     "output_type": "execute_result"
    }
   ],
   "source": [
    "x"
   ]
  },
  {
   "cell_type": "code",
   "execution_count": 9,
   "id": "e838bc73-10b1-4484-90fa-eeae64c881c9",
   "metadata": {},
   "outputs": [],
   "source": [
    "d = np.dtype([('x', 'i8'), ('y', 'f4')])"
   ]
  },
  {
   "cell_type": "code",
   "execution_count": 10,
   "id": "7483e318-4f37-497d-ae77-26fdb11301a9",
   "metadata": {},
   "outputs": [
    {
     "data": {
      "text/plain": [
       "('x', 'y')"
      ]
     },
     "execution_count": 10,
     "metadata": {},
     "output_type": "execute_result"
    }
   ],
   "source": [
    "d.names"
   ]
  },
  {
   "cell_type": "code",
   "execution_count": 11,
   "id": "adba4bda-3b3f-4ce0-8b7d-2be7e5cf63f0",
   "metadata": {},
   "outputs": [
    {
     "data": {
      "text/plain": [
       "mappingproxy({'x': (dtype('int64'), 0), 'y': (dtype('float32'), 8)})"
      ]
     },
     "execution_count": 11,
     "metadata": {},
     "output_type": "execute_result"
    }
   ],
   "source": [
    "d.fields"
   ]
  },
  {
   "cell_type": "code",
   "execution_count": 12,
   "id": "0df95ab8-f162-497a-82a7-b3b9c42dca36",
   "metadata": {},
   "outputs": [],
   "source": [
    "x = np.array([(1, 2, 3), (4, 5, 6)], dtype='i8, f4, f8')"
   ]
  },
  {
   "cell_type": "code",
   "execution_count": 13,
   "id": "9c350506-61cd-443c-8e6b-91059b7258e9",
   "metadata": {},
   "outputs": [],
   "source": [
    "x[1] = (7, 8, 9)"
   ]
  },
  {
   "cell_type": "code",
   "execution_count": 14,
   "id": "a88a9eb7-a81b-484f-8d80-558bb8c7ceab",
   "metadata": {},
   "outputs": [
    {
     "data": {
      "text/plain": [
       "array([(1, 2., 3.), (7, 8., 9.)],\n",
       "      dtype=[('f0', '<i8'), ('f1', '<f4'), ('f2', '<f8')])"
      ]
     },
     "execution_count": 14,
     "metadata": {},
     "output_type": "execute_result"
    }
   ],
   "source": [
    "x"
   ]
  },
  {
   "cell_type": "code",
   "execution_count": 15,
   "id": "9270c7ed-bd78-4282-85db-4c10502527ab",
   "metadata": {},
   "outputs": [],
   "source": [
    "x = np.zeros(2, dtype='i8, f4, ?, S1')"
   ]
  },
  {
   "cell_type": "code",
   "execution_count": 16,
   "id": "95f0729d-4a4a-4f39-8dea-516c07cd7671",
   "metadata": {},
   "outputs": [
    {
     "data": {
      "text/plain": [
       "array([(0, 0., False, b''), (0, 0., False, b'')],\n",
       "      dtype=[('f0', '<i8'), ('f1', '<f4'), ('f2', '?'), ('f3', 'S1')])"
      ]
     },
     "execution_count": 16,
     "metadata": {},
     "output_type": "execute_result"
    }
   ],
   "source": [
    "x"
   ]
  },
  {
   "cell_type": "code",
   "execution_count": 17,
   "id": "1f524c82-f291-4fd6-9d50-ea372611b7f6",
   "metadata": {},
   "outputs": [],
   "source": [
    "x[:] = 3"
   ]
  },
  {
   "cell_type": "code",
   "execution_count": 18,
   "id": "01c4228a-2d56-45f8-9eba-b8c7edbdeda0",
   "metadata": {},
   "outputs": [
    {
     "data": {
      "text/plain": [
       "array([(3, 3.,  True, b'3'), (3, 3.,  True, b'3')],\n",
       "      dtype=[('f0', '<i8'), ('f1', '<f4'), ('f2', '?'), ('f3', 'S1')])"
      ]
     },
     "execution_count": 18,
     "metadata": {},
     "output_type": "execute_result"
    }
   ],
   "source": [
    "x"
   ]
  },
  {
   "cell_type": "code",
   "execution_count": 19,
   "id": "27b7550b-12a6-4fab-870c-1bdb82cb07e5",
   "metadata": {},
   "outputs": [],
   "source": [
    "x = np.array([(1, 2), (3, 4)], dtype=[('foo', 'i8'), ('bar', 'f4')])"
   ]
  },
  {
   "cell_type": "code",
   "execution_count": 20,
   "id": "736edf53-36ce-4cee-91de-8161ac23ab3b",
   "metadata": {},
   "outputs": [
    {
     "data": {
      "text/plain": [
       "array([(1, 2.), (3, 4.)], dtype=[('foo', '<i8'), ('bar', '<f4')])"
      ]
     },
     "execution_count": 20,
     "metadata": {},
     "output_type": "execute_result"
    }
   ],
   "source": [
    "x"
   ]
  },
  {
   "cell_type": "code",
   "execution_count": 21,
   "id": "e76693ce-d4c1-4338-ba74-57e420204b92",
   "metadata": {},
   "outputs": [
    {
     "data": {
      "text/plain": [
       "array([1, 3], dtype=int64)"
      ]
     },
     "execution_count": 21,
     "metadata": {},
     "output_type": "execute_result"
    }
   ],
   "source": [
    "x['foo']"
   ]
  },
  {
   "cell_type": "code",
   "execution_count": 22,
   "id": "9e320cfe-606f-49b3-8c89-5fe1b693ec3d",
   "metadata": {},
   "outputs": [],
   "source": [
    "x['foo']=10"
   ]
  },
  {
   "cell_type": "code",
   "execution_count": 23,
   "id": "7bdd1593-895b-4125-9ba1-e9253de9b5e9",
   "metadata": {},
   "outputs": [
    {
     "data": {
      "text/plain": [
       "array([(10, 2.), (10, 4.)], dtype=[('foo', '<i8'), ('bar', '<f4')])"
      ]
     },
     "execution_count": 23,
     "metadata": {},
     "output_type": "execute_result"
    }
   ],
   "source": [
    "x"
   ]
  },
  {
   "cell_type": "code",
   "execution_count": 24,
   "id": "25da6ca9-6034-48ca-a40c-458bfd44cf16",
   "metadata": {},
   "outputs": [],
   "source": [
    "x = np.array([(1, 2), (3, 4)], dtype=[('foo', 'i8'), ('bar', 'f4')])"
   ]
  },
  {
   "cell_type": "code",
   "execution_count": 26,
   "id": "421e0c24-90e1-4daa-a6fe-77a2d1db0930",
   "metadata": {},
   "outputs": [],
   "source": [
    "x['bar'] = 100"
   ]
  },
  {
   "cell_type": "code",
   "execution_count": 27,
   "id": "3f522056-8523-4c1d-a156-93c81370199a",
   "metadata": {},
   "outputs": [
    {
     "data": {
      "text/plain": [
       "array([(1, 100.), (3, 100.)], dtype=[('foo', '<i8'), ('bar', '<f4')])"
      ]
     },
     "execution_count": 27,
     "metadata": {},
     "output_type": "execute_result"
    }
   ],
   "source": [
    "x"
   ]
  },
  {
   "cell_type": "code",
   "execution_count": 28,
   "id": "b73f3770-6da7-4336-897f-0300cd01d720",
   "metadata": {},
   "outputs": [],
   "source": [
    "a = np.array([2, 3, 4], dtype=np.uint32)"
   ]
  },
  {
   "cell_type": "code",
   "execution_count": 29,
   "id": "84155863-b2fd-4299-b822-554480d2c241",
   "metadata": {},
   "outputs": [],
   "source": [
    "b = np.array([5, 6, 7], dtype=np.uint32)"
   ]
  },
  {
   "cell_type": "code",
   "execution_count": 30,
   "id": "1c75c8a2-3fdb-44fb-865f-baea1ddae322",
   "metadata": {},
   "outputs": [
    {
     "data": {
      "text/plain": [
       "array([4294967293, 4294967293, 4294967293], dtype=uint32)"
      ]
     },
     "execution_count": 30,
     "metadata": {},
     "output_type": "execute_result"
    }
   ],
   "source": [
    "a-b"
   ]
  },
  {
   "cell_type": "code",
   "execution_count": 31,
   "id": "05df464e-ea2f-46e2-a770-3713e6520a24",
   "metadata": {},
   "outputs": [],
   "source": [
    "c_signed32 = a - b.astype(np.int32)"
   ]
  },
  {
   "cell_type": "code",
   "execution_count": 32,
   "id": "2018c3a9-ed31-4eea-8050-8a21fb6ca11e",
   "metadata": {},
   "outputs": [
    {
     "data": {
      "text/plain": [
       "array([-3, -3, -3], dtype=int64)"
      ]
     },
     "execution_count": 32,
     "metadata": {},
     "output_type": "execute_result"
    }
   ],
   "source": [
    "c_signed32"
   ]
  },
  {
   "cell_type": "code",
   "execution_count": null,
   "id": "a5b52c83-ff0c-4904-be38-be93c726613b",
   "metadata": {},
   "outputs": [],
   "source": []
  }
 ],
 "metadata": {
  "kernelspec": {
   "display_name": "Python 3 (ipykernel)",
   "language": "python",
   "name": "python3"
  },
  "language_info": {
   "codemirror_mode": {
    "name": "ipython",
    "version": 3
   },
   "file_extension": ".py",
   "mimetype": "text/x-python",
   "name": "python",
   "nbconvert_exporter": "python",
   "pygments_lexer": "ipython3",
   "version": "3.9.7"
  }
 },
 "nbformat": 4,
 "nbformat_minor": 5
}

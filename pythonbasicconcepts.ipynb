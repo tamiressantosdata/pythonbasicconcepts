{
 "cells": [
  {
   "cell_type": "code",
   "execution_count": 2,
   "id": "da6188ae-d50e-489b-b12c-44477dfc3bf7",
   "metadata": {},
   "outputs": [],
   "source": [
    "def sum_and_product(x, y):\n",
    "    return (x + y), (x * y)\n"
   ]
  },
  {
   "cell_type": "code",
   "execution_count": 5,
   "id": "1b9d12e8-6bfd-4c2d-86ac-2e3b3e67dd71",
   "metadata": {},
   "outputs": [],
   "source": [
    "s,p = sum_and_product(2, 3) "
   ]
  },
  {
   "cell_type": "code",
   "execution_count": 8,
   "id": "81fe7b31-4875-47b7-8a3d-255b051c84ae",
   "metadata": {},
   "outputs": [
    {
     "data": {
      "text/plain": [
       "5"
      ]
     },
     "execution_count": 8,
     "metadata": {},
     "output_type": "execute_result"
    }
   ],
   "source": [
    "s"
   ]
  },
  {
   "cell_type": "code",
   "execution_count": 9,
   "id": "06b5f506-6662-49bb-9ca9-4bc64500a758",
   "metadata": {},
   "outputs": [
    {
     "data": {
      "text/plain": [
       "6"
      ]
     },
     "execution_count": 9,
     "metadata": {},
     "output_type": "execute_result"
    }
   ],
   "source": [
    "p"
   ]
  },
  {
   "cell_type": "code",
   "execution_count": 10,
   "id": "bb09351b-e17a-44fc-bb33-54da72e14bd0",
   "metadata": {},
   "outputs": [],
   "source": [
    "x, y = 1, 2 "
   ]
  },
  {
   "cell_type": "code",
   "execution_count": 11,
   "id": "a88c2782-f11f-4a72-b428-f4dfbd9ae9e5",
   "metadata": {},
   "outputs": [
    {
     "data": {
      "text/plain": [
       "1"
      ]
     },
     "execution_count": 11,
     "metadata": {},
     "output_type": "execute_result"
    }
   ],
   "source": [
    "x"
   ]
  },
  {
   "cell_type": "code",
   "execution_count": 12,
   "id": "ca4cd1d6-9d25-4c11-b939-eedc431df614",
   "metadata": {},
   "outputs": [
    {
     "data": {
      "text/plain": [
       "2"
      ]
     },
     "execution_count": 12,
     "metadata": {},
     "output_type": "execute_result"
    }
   ],
   "source": [
    "y"
   ]
  },
  {
   "cell_type": "code",
   "execution_count": 15,
   "id": "182591be-587b-4add-8d29-397a1e8680e7",
   "metadata": {},
   "outputs": [],
   "source": [
    "empty_dict = {} # Pythonic\n",
    "empty_dict2 = dict() # less Pythonic\n",
    "grades = {\"Tamires\": 80, \"Julia\": 95} # dictionary literal"
   ]
  },
  {
   "cell_type": "code",
   "execution_count": 17,
   "id": "5816bed3-bbae-4881-be8d-93e4a0705ffd",
   "metadata": {},
   "outputs": [
    {
     "data": {
      "text/plain": [
       "80"
      ]
     },
     "execution_count": 17,
     "metadata": {},
     "output_type": "execute_result"
    }
   ],
   "source": [
    "grades[\"Tamires\"]"
   ]
  },
  {
   "cell_type": "code",
   "execution_count": 18,
   "id": "dcc1ed99-1682-4cf0-9d9e-6a48a6468ee8",
   "metadata": {},
   "outputs": [],
   "source": [
    "tweet = {\n",
    " \"user\" : \"joelgrus\",\n",
    " \"text\" : \"Data Science is Awesome\",\n",
    " \"retweet_count\" : 100,\n",
    " \"hashtags\" : [\"#data\", \"#science\", \"#datascience\", \"#awesome\", \"#yolo\"]\n",
    "}"
   ]
  },
  {
   "cell_type": "code",
   "execution_count": 19,
   "id": "3b66ab31-e78b-42aa-b6a9-eef62b124aa6",
   "metadata": {},
   "outputs": [],
   "source": [
    "tweet_keys = tweet.keys() # iterable for the keys\n",
    "tweet_values = tweet.values() # iterable for the values\n",
    "tweet_items = tweet.items() # iterable for the (key, value) tuples"
   ]
  },
  {
   "cell_type": "code",
   "execution_count": 20,
   "id": "9522087f-38c2-43c0-93c9-93f07fc0ed80",
   "metadata": {},
   "outputs": [
    {
     "data": {
      "text/plain": [
       "dict_keys(['user', 'text', 'retweet_count', 'hashtags'])"
      ]
     },
     "execution_count": 20,
     "metadata": {},
     "output_type": "execute_result"
    }
   ],
   "source": [
    "tweet_keys"
   ]
  },
  {
   "cell_type": "code",
   "execution_count": 21,
   "id": "ea9d8aea-0f62-40b1-a622-ff46007a4179",
   "metadata": {},
   "outputs": [
    {
     "data": {
      "text/plain": [
       "dict_values(['joelgrus', 'Data Science is Awesome', 100, ['#data', '#science', '#datascience', '#awesome', '#yolo']])"
      ]
     },
     "execution_count": 21,
     "metadata": {},
     "output_type": "execute_result"
    }
   ],
   "source": [
    "tweet_values"
   ]
  },
  {
   "cell_type": "code",
   "execution_count": 23,
   "id": "aba4559d-a602-43e4-83b4-f4480632497f",
   "metadata": {},
   "outputs": [
    {
     "data": {
      "text/plain": [
       "dict_items([('user', 'joelgrus'), ('text', 'Data Science is Awesome'), ('retweet_count', 100), ('hashtags', ['#data', '#science', '#datascience', '#awesome', '#yolo'])])"
      ]
     },
     "execution_count": 23,
     "metadata": {},
     "output_type": "execute_result"
    }
   ],
   "source": [
    "tweet_items"
   ]
  },
  {
   "cell_type": "code",
   "execution_count": 24,
   "id": "acc1ffc9-6aad-4b7a-87ed-cb9503606a08",
   "metadata": {},
   "outputs": [],
   "source": [
    "primes_below_10 = {2, 3, 5, 7}"
   ]
  },
  {
   "cell_type": "code",
   "execution_count": 25,
   "id": "0ddf9183-74f5-428f-b799-f280bb70b1a7",
   "metadata": {},
   "outputs": [
    {
     "data": {
      "text/plain": [
       "{2, 3, 5, 7}"
      ]
     },
     "execution_count": 25,
     "metadata": {},
     "output_type": "execute_result"
    }
   ],
   "source": [
    "primes_below_10"
   ]
  },
  {
   "cell_type": "code",
   "execution_count": 28,
   "id": "05abe665-14fc-44da-acd1-62239d4bbde8",
   "metadata": {},
   "outputs": [],
   "source": [
    "#sets\n",
    "s = set()\n",
    "s.add(1) # s is now {1}\n",
    "s.add(2) # s is now {1, 2}\n",
    "s.add(2) # s is still {1, 2}\n"
   ]
  },
  {
   "cell_type": "code",
   "execution_count": 27,
   "id": "ce6d4983-ac37-4cd1-b31e-91d008de67f0",
   "metadata": {},
   "outputs": [
    {
     "data": {
      "text/plain": [
       "{1, 2}"
      ]
     },
     "execution_count": 27,
     "metadata": {},
     "output_type": "execute_result"
    }
   ],
   "source": [
    "s"
   ]
  },
  {
   "cell_type": "code",
   "execution_count": null,
   "id": "1bd3f963-4957-4eea-9470-80dd23eecad2",
   "metadata": {},
   "outputs": [],
   "source": []
  }
 ],
 "metadata": {
  "kernelspec": {
   "display_name": "Python 3 (ipykernel)",
   "language": "python",
   "name": "python3"
  },
  "language_info": {
   "codemirror_mode": {
    "name": "ipython",
    "version": 3
   },
   "file_extension": ".py",
   "mimetype": "text/x-python",
   "name": "python",
   "nbconvert_exporter": "python",
   "pygments_lexer": "ipython3",
   "version": "3.9.7"
  }
 },
 "nbformat": 4,
 "nbformat_minor": 5
}

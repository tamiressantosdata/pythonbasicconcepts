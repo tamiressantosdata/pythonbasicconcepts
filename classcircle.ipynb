{
 "cells": [
  {
   "cell_type": "code",
   "execution_count": 4,
   "id": "f3f331b1-f1bf-4970-9e52-ef82be1eb733",
   "metadata": {},
   "outputs": [],
   "source": [
    "class Circle:\n",
    "    def __init__(self, radius):\n",
    "        self.radius=radius\n",
    "    def diameter(self):\n",
    "         return  self.radius*2"
   ]
  },
  {
   "cell_type": "code",
   "execution_count": 5,
   "id": "b318ec7b-9700-4e6f-bfe6-0970e8a401c3",
   "metadata": {},
   "outputs": [],
   "source": [
    "c=Circle(4)\n"
   ]
  },
  {
   "cell_type": "code",
   "execution_count": 7,
   "id": "02ed75b3-c62d-4bd5-a663-5af3a3f93fde",
   "metadata": {},
   "outputs": [
    {
     "data": {
      "text/plain": [
       "4"
      ]
     },
     "execution_count": 7,
     "metadata": {},
     "output_type": "execute_result"
    }
   ],
   "source": [
    "c.radius"
   ]
  },
  {
   "cell_type": "code",
   "execution_count": 9,
   "id": "24a54e0a-2ced-43c6-9cda-9bcc827de896",
   "metadata": {},
   "outputs": [
    {
     "data": {
      "text/plain": [
       "8"
      ]
     },
     "execution_count": 9,
     "metadata": {},
     "output_type": "execute_result"
    }
   ],
   "source": [
    "c.diameter"
   ]
  },
  {
   "cell_type": "code",
   "execution_count": 10,
   "id": "100257b6-82b6-46ab-bd9b-926cf83af081",
   "metadata": {},
   "outputs": [],
   "source": [
    "c.radius=5"
   ]
  },
  {
   "cell_type": "code",
   "execution_count": 12,
   "id": "f02ab8ca-b3df-444a-ad64-860360f40cae",
   "metadata": {},
   "outputs": [
    {
     "data": {
      "text/plain": [
       "10"
      ]
     },
     "execution_count": 12,
     "metadata": {},
     "output_type": "execute_result"
    }
   ],
   "source": [
    "c.diameter()"
   ]
  },
  {
   "cell_type": "code",
   "execution_count": null,
   "id": "418d53f8-741c-4f76-9c72-ec35eab68cfc",
   "metadata": {},
   "outputs": [],
   "source": []
  },
  {
   "cell_type": "code",
   "execution_count": null,
   "id": "6d54e2f9-3db9-43f1-b0ea-7f27b7af2c12",
   "metadata": {},
   "outputs": [],
   "source": []
  }
 ],
 "metadata": {
  "kernelspec": {
   "display_name": "Python 3 (ipykernel)",
   "language": "python",
   "name": "python3"
  },
  "language_info": {
   "codemirror_mode": {
    "name": "ipython",
    "version": 3
   },
   "file_extension": ".py",
   "mimetype": "text/x-python",
   "name": "python",
   "nbconvert_exporter": "python",
   "pygments_lexer": "ipython3",
   "version": "3.9.7"
  }
 },
 "nbformat": 4,
 "nbformat_minor": 5
}
